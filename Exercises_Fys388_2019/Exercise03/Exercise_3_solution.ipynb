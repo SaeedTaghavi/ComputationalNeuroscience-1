{
 "cells": [
  {
   "cell_type": "markdown",
   "metadata": {},
   "source": [
    "# Solution to Exercise 3: Hodgkin-Huxley model\n",
    "\n",
    "__(i)__ A function version of the code is found below.\n",
    "\n",
    "__(ii)__ The result should look like in the figure produced by the code (Figure 1). The rebound spike occurs since during the long hyperpolarization, the inactivation parameter $h$ increases while $n$ is reduced. When the negative input current is removed, $m$ also increases, while $h$ and $n$ change only slowly, so that the product $m^3h$ remains large for a while, and the hyperpolarizing potassium current remains small for a while. In this example the sodium current is in fact large enough to reach the threshold for spike generation."
   ]
  },
  {
   "cell_type": "code",
   "execution_count": null,
   "metadata": {},
   "outputs": [],
   "source": [
    "%pylab notebook\n",
    "import numpy as np"
   ]
  },
  {
   "cell_type": "code",
   "execution_count": null,
   "metadata": {
    "collapsed": true
   },
   "outputs": [],
   "source": [
    "def set_parameters():\n",
    "    '''\n",
    "    Define simulation, stimulus and neuron parameters and stores values in parameter dictionary p.\n",
    "\n",
    "    Returns:\n",
    "    --------\n",
    "    p : dict\n",
    "        Parameter dictionary.\n",
    "      \n",
    "    '''\n",
    "    ## store parameters in dictionary\n",
    "    p = {}\n",
    "  \n",
    "    ## simulation parameters\n",
    "    p['T'] = 50.                ## simulation time (ms)\n",
    "    p['dt'] = 0.025              ## simulation time resolution (ms)\n",
    "\n",
    "    ## stimulus parameters\n",
    "    p['I_amp'] = -10.           ## input current amplitude (uA/cm2)\n",
    "    p['t_stim_on'] = 5.            ## stimulus-on time (ms)\n",
    "    p['t_stim_off'] = 30           ## stimulus-off time (ms)\n",
    "\n",
    "    ## neuron parameters\n",
    "    p['V_rest'] = -65.             ## resting potential (mV)\n",
    "    p['Cm'] = 1.               ## membrane capacitance (uF/cm2)\n",
    "    p['gbar_Na'] = 120.             ## max. Na conductance (mS/cm2)\n",
    "    p['gbar_K'] = 36.               ## max K conductance (mS/cm2)\n",
    "    p['gbar_l'] = 0.3              ## leak conductance (mS/cm2)\n",
    "    p['E_Na'] = 50.              ## Na reversal potentail (mV)\n",
    "    p['E_K'] = -77.             ## K reversal potentail (mV)\n",
    "    p['E_l'] = -54.387          ## Leak reversal potentail (mV)\n",
    "\n",
    "    ## voltage dependence of gate variables    \n",
    "    ### K activation\n",
    "    p['alpha_n'] = np.vectorize(lambda v: 0.01*(v+55.) / (1.-np.exp(-(v + 55.)/10.)) \n",
    "                                if v != -55. else 0.1) ## activation rate (1/ms)\n",
    "    p['beta_n'] = lambda v: 0.125*np.exp(-(v+65.)/80.) ## inactivation rate (1/ms)\n",
    "    \n",
    "    ### Na activation\n",
    "    p['alpha_m'] = np.vectorize(lambda v: 0.1*(v + 40.)/(1.-np.exp(-(v + 40.)/10.)) \n",
    "                                if v != -40. else 1)  ## activation rate (1/ms)\n",
    "    p['beta_m'] = lambda v: 4.*np.exp(-(v+65.)/18.)   ## inactivation rate (1/ms)\n",
    "    \n",
    "    ### Na inactivation\n",
    "    p['alpha_h'] = lambda v: 0.07*np.exp(-(v+65.)/20.)  ## activation rate (1/ms)\n",
    "    p['beta_h'] = lambda v: 1./(1.+np.exp(-(v + 35.)/10.)) ## inactivation rate (1/ms)\n",
    "\n",
    "    derived_parameters(p)  ## add derived parameters to dictionary (see below)\n",
    "\n",
    "    ## HINT: Storing parameters in dictionaries simplifies function definitions by \n",
    "    ## reducing number of arguments (see below).\n",
    "    \n",
    "    return p"
   ]
  },
  {
   "cell_type": "code",
   "execution_count": null,
   "metadata": {
    "collapsed": true
   },
   "outputs": [],
   "source": [
    "def derived_parameters(p):\n",
    "    '''\n",
    "    Set derived parameters, i.e. parameters which are fully defined by parameters in p.\n",
    "\n",
    "    Parameters:\n",
    "    -----------\n",
    "    p: dict\n",
    "       Parameter dictionary\n",
    "     \n",
    "    Returns:\n",
    "    --------\n",
    "    nothing (p is modified \"on-the-fly\").\n",
    "    \n",
    "    '''\n",
    "    \n",
    "    p['time'] = np.arange(0, p['T']+p['dt'], p['dt'])                          ## time array (ms)\n",
    "    p['n_inf'] = lambda v: p['alpha_n'](v)/(p['alpha_n'](v) + p['beta_n'](v)) ## steady-state K activation\n",
    "    p['tau_n'] = lambda v: 1./(p['alpha_n'](v) + p['beta_n'](v))              ## (ms)\n",
    "    p['m_inf'] = lambda v: p['alpha_m'](v)/(p['alpha_m'](v) + p['beta_m'](v)) ## steady-state Na activation\n",
    "    p['tau_m'] = lambda v: 1./(p['alpha_m'](v) + p['beta_m'](v))              ## (ms)\n",
    "    p['h_inf'] = lambda v: p['alpha_h'](v)/(p['alpha_h'](v) + p['beta_h'](v)) ## steady-state Na inactivation\n",
    "    p['tau_h'] = lambda v: 1./(p['alpha_h'](v) + p['beta_h'](v))              ## (ms)"
   ]
  },
  {
   "cell_type": "code",
   "execution_count": null,
   "metadata": {
    "collapsed": true
   },
   "outputs": [],
   "source": [
    "def stimulus(p):\n",
    "    '''\n",
    "    Consctructs array I of input currents with\n",
    "\n",
    "    I(t) = p['I_amp']        for p['t_stim_on'] <= t <= p['t_stim_off']\n",
    "    I(t) = 0.0               else.\n",
    "\n",
    "    (i.e. current pulse of length p['t_stim_off']-p['t_stim_on']).\n",
    "    \n",
    "    Parameters:\n",
    "    -----------\n",
    "    p: dict\n",
    "       Parameter dictionary\n",
    "     \n",
    "    Returns:\n",
    "    --------\n",
    "    I: ndarray\n",
    "       Array of input currents with with len(I)=len(p['time']).\n",
    "\n",
    "    '''\n",
    "  \n",
    "    I = np.zeros(len(p['time']))\n",
    "\n",
    "    ## step stimulus\n",
    "    for i, t in enumerate(p['time']):\n",
    "        if p['t_stim_on'] <= t <= p['t_stim_off']:\n",
    "            I[i] = p['I_amp']\n",
    "\n",
    "    return I"
   ]
  },
  {
   "cell_type": "code",
   "execution_count": null,
   "metadata": {
    "collapsed": true
   },
   "outputs": [],
   "source": [
    "def update(Vm, m, h, n, I, p):\n",
    "    '''\n",
    "    Updates neuron state (Vm,m,h,n) from time step i-1 to time step i.\n",
    "\n",
    "    Parameters:\n",
    "    -----------\n",
    "    Vm: float\n",
    "        Membrane potentential at time step i-1.\n",
    "     m: float\n",
    "        Na activation at time step i-1.\n",
    "     h: float\n",
    "        Na inactivation at time step i-1.\n",
    "     n: float\n",
    "        K activation at time step i-1.\n",
    "     I: float\n",
    "        Input current at time step i-1.\n",
    "     p: dict\n",
    "        Parameter dictionary\n",
    "    \n",
    "    Returns:\n",
    "    --------\n",
    "    Vm: float\n",
    "        Membrane potentential at time step i.\n",
    "     m: float\n",
    "        Na activation at time step i.\n",
    "     h: float\n",
    "        Na inactivation at time step i.    \n",
    "     n: float\n",
    "        K activation at time step i.\n",
    "  \n",
    "    '''\n",
    "    \n",
    "    g_Na = p['gbar_Na']*(m**3)*h\n",
    "    g_K = p['gbar_K']*(n**4)\n",
    "    g_l = p['gbar_l']\n",
    "    m += (p['alpha_m'](Vm)*(1 - m) - p['beta_m'](Vm)*m) * p['dt']\n",
    "    h += (p['alpha_h'](Vm)*(1 - h) - p['beta_h'](Vm)*h) * p['dt']\n",
    "    n += (p['alpha_n'](Vm)*(1 - n) - p['beta_n'](Vm)*n) * p['dt']\n",
    "    Vm += (I - g_Na*(Vm - p['E_Na']) - g_K*(Vm - p['E_K']) - g_l*(Vm - p['E_l'])) / p['Cm'] * p['dt']\n",
    "    \n",
    "    return Vm, m, h, n"
   ]
  },
  {
   "cell_type": "code",
   "execution_count": null,
   "metadata": {
    "collapsed": true
   },
   "outputs": [],
   "source": [
    "def simulate(p):\n",
    "    '''\n",
    "    1) Initialises state variables Vm, m, h, n with respective values at resting potential p['V_rest'].\n",
    "    2) Constructs and returns array I of input currents by calling stimulus().\n",
    "    3) Constructs array Vm of membrane potentials by calling update() in each time step.\n",
    "\n",
    "    Parameters:\n",
    "    -----------\n",
    "    p: dict\n",
    "       Parameter dictionary\n",
    "       \n",
    "    Returns:\n",
    "    --------\n",
    "    Vm: ndarray\n",
    "        Array of membrane potentials with len(Vm)=len(p['time']).\n",
    "     I: ndarray\n",
    "        Array of input currents with len(I)=len(p['time']).\n",
    "\n",
    "    '''\n",
    "  \n",
    "    Vm = np.zeros(len(p['time']))  # initialise membrane-potential array (mV)\n",
    "    ## initial conditions\n",
    "    Vm[0] = p['V_rest']\n",
    "    m = p['m_inf'](p['V_rest'])\n",
    "    h = p['h_inf'](p['V_rest'])\n",
    "    n = p['n_inf'](p['V_rest'])\n",
    "  \n",
    "    I = stimulus(p) ## array of stimulus currents (uA/cm2)\n",
    "  \n",
    "    ## loop over time steps\n",
    "    for i in range(1, len(p['time'])):\n",
    "        Vm[i], m, h, n = update(Vm[i-1], m, h, n, I[i-1], p)\n",
    "    return Vm, I"
   ]
  },
  {
   "cell_type": "markdown",
   "metadata": {},
   "source": [
    "Main simulation:"
   ]
  },
  {
   "cell_type": "code",
   "execution_count": null,
   "metadata": {},
   "outputs": [],
   "source": [
    "## set parameters\n",
    "p = set_parameters()\n",
    "\n",
    "## simulate\n",
    "Vm, I = simulate(p)\n",
    "\n",
    "## plot results\n",
    "figure(1)\n",
    "clf()\n",
    "\n",
    "### input current\n",
    "sp1 = subplot(211)\n",
    "plot(p['time'], I, 'k-', lw=3)\n",
    "ylabel('input current ($\\mu$A/cm$^2$)')\n",
    "xlim(p['time'][0], p['time'][-1])\n",
    "offset = 0.1*np.abs(np.max(I)-np.min(I))\n",
    "ylim(np.min(I)-offset, np.max(I)+offset)\n",
    "sp1.set_position([0.1, 0.65, 0.8, 0.3])\n",
    "setp(gca(), xticklabels=[])\n",
    "\n",
    "### membrane potential \n",
    "sp2 = subplot(212)\n",
    "plot(p['time'], Vm, 'k-', lw=3)\n",
    "ylabel('membrane potential (mV)')\n",
    "xlabel('time (ms)')\n",
    "xlim(p['time'][0], p['time'][-1])\n",
    "offset = 0.1*np.abs(np.max(Vm)-np.min(Vm))\n",
    "ylim(np.min(Vm)-offset, np.max(Vm)+offset)\n",
    "sp2.set_position([0.1, 0.1, 0.8, 0.5])\n",
    "\n",
    "savefig('exercise_3_result.png')  ## saves figure as pdf file\n"
   ]
  },
  {
   "cell_type": "markdown",
   "metadata": {},
   "source": [
    "__(iii)__ By modifying the code to return the firing rate for a given input current (or running a series of simulations, reading it off manually), you can (given some patience) obtain a figure like the one in Figure 2. The threshold current is about 6.2 $\\mu$A/cm$^2$.\n",
    "\n",
    "<img src=\"firingrate.png\" width = \"500\">\n",
    "__Figure 2:__Result of (iii), showing the $f-I$ curve of the Hodgkin-Huxley model. Code for producing this result is not provided here."
   ]
  },
  {
   "cell_type": "code",
   "execution_count": null,
   "metadata": {
    "collapsed": true
   },
   "outputs": [],
   "source": []
  }
 ],
 "metadata": {
  "kernelspec": {
   "display_name": "Python 3",
   "language": "python",
   "name": "python3"
  },
  "language_info": {
   "codemirror_mode": {
    "name": "ipython",
    "version": 3
   },
   "file_extension": ".py",
   "mimetype": "text/x-python",
   "name": "python",
   "nbconvert_exporter": "python",
   "pygments_lexer": "ipython3",
   "version": "3.7.3"
  }
 },
 "nbformat": 4,
 "nbformat_minor": 2
}

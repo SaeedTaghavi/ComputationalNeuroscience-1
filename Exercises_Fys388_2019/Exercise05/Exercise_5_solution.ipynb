{
 "cells": [
  {
   "cell_type": "code",
   "execution_count": null,
   "metadata": {
    "collapsed": false
   },
   "outputs": [],
   "source": [
    "%pylab notebook"
   ]
  },
  {
   "cell_type": "markdown",
   "metadata": {},
   "source": [
    "## Solution to exercise 5: Simple Hay et al. model neuron simulation with one synaptic input\n",
    "\n",
    "Move downwards and follow instructions to see solutions to various tasks:"
   ]
  },
  {
   "cell_type": "code",
   "execution_count": null,
   "metadata": {
    "collapsed": false
   },
   "outputs": [],
   "source": [
    "import os\n",
    "retval = os.getcwd()\n",
    "print(\"Current working directory %s\" % retval)\n",
    "os.chdir(\"hay_model/mod/\")\n",
    "!nrnivmodl\n",
    "os.chdir(retval)\n",
    "\n",
    "from os.path import join\n",
    "import numpy as np\n",
    "import neuron\n",
    "import LFPy\n",
    "from hay_model.hay_active_declarations import active_declarations\n",
    "nrn = neuron.h"
   ]
  },
  {
   "cell_type": "code",
   "execution_count": null,
   "metadata": {
    "collapsed": true
   },
   "outputs": [],
   "source": [
    "def return_cell(synaptic_y_pos=900, conductance_type='active', weight=0.001, input_spike_train=np.array([10.])):\n",
    "    \"\"\"\n",
    "    Runs a NEURON simulation and returns an LFPy cell object for a single synaptic input.\n",
    "    :param synaptic_y_pos: position along the apical dendrite where the synapse is inserted.\n",
    "    :param conductance_type: Either 'active' or 'passive'. If 'active' all original ion-channels are included,\n",
    "           if 'passive' they are all removed, yielding a passive cell model.\n",
    "    :param weight: Strength of synaptic input.\n",
    "    :param input_spike_train: Numpy array containing synaptic spike times\n",
    "    :return: cell object where cell.imem gives transmembrane currents, cell.vmem gives membrane potentials.\n",
    "             See LFPy documentation for more details and examples.\n",
    "    \"\"\"\n",
    "    nrn('forall delete_section()')\n",
    "    model_path = join('hay_model')\n",
    "    neuron.load_mechanisms(join(model_path, 'mod'))\n",
    "    cell_parameters = {\n",
    "        'morphology': join(model_path, 'cell1.hoc'),\n",
    "        'v_init': -65,\n",
    "        'passive': False,\n",
    "        'nsegs_method': 'lambda_f',\n",
    "        'lambda_f': 100,\n",
    "        'dt': 2**-3,  # Should be a power of 2\n",
    "        'tstart': -200,\n",
    "        'tstop': 200,\n",
    "        'custom_code': [join(model_path, 'custom_codes.hoc')],\n",
    "        'custom_fun': [active_declarations],\n",
    "        'custom_fun_args': [{'conductance_type': conductance_type}],\n",
    "    }\n",
    "    cell = LFPy.Cell(**cell_parameters)\n",
    "    synapse_parameters = {\n",
    "        'idx': cell.get_closest_idx(x=0., y=synaptic_y_pos, z=0.),  # Returns compartment on cell closest to coordinates\n",
    "        'e': 0.,\n",
    "        'syntype': 'ExpSyn',\n",
    "        'tau': 10.,\n",
    "        'weight': weight,\n",
    "        'record_current': True,\n",
    "    }\n",
    "    synapse = LFPy.Synapse(cell, **synapse_parameters)\n",
    "    synapse.set_spike_times(input_spike_train)\n",
    "    cell.simulate(rec_imem=True, rec_vmem=True)\n",
    "    return cell"
   ]
  },
  {
   "cell_type": "code",
   "execution_count": null,
   "metadata": {
    "collapsed": true
   },
   "outputs": [],
   "source": [
    "def plot_cell(cell):\n",
    "    cell_plot_idx = 0\n",
    "    subplot(121, aspect='equal')\n",
    "    [plot([cell.xstart[idx], cell.xend[idx]], [cell.ystart[idx], cell.yend[idx]], c='k') \n",
    "     for idx in range(cell.totnsegs)]\n",
    "    plot(cell.xmid[cell.synidx], cell.ymid[cell.synidx], 'ro')\n",
    "    subplot(222, title='Membrane potential')\n",
    "    plot(cell.tvec, cell.vmem[cell_plot_idx, :])\n",
    "    subplot(224, title='Transmembrane currents')\n",
    "    plot(cell.tvec, cell.imem[cell_plot_idx, :])\n",
    "    savefig('exercise_5_1.png')"
   ]
  },
  {
   "cell_type": "code",
   "execution_count": null,
   "metadata": {
    "collapsed": true
   },
   "outputs": [],
   "source": [
    "def return_soma_v_line(cell, axes, dist):\n",
    "    cell_plot_idx = 0\n",
    "    sig_shifted = (cell.vmem[cell_plot_idx, :] - cell.vmem[cell_plot_idx, 0])\n",
    "    axes[0].plot(cell.tvec, sig_shifted/np.max(sig_shifted), label='%d $\\mu m$' % dist)\n",
    "    axes[1].plot(cell.tvec, cell.vmem[cell_plot_idx, :], label='%d $\\mu m$' % dist)"
   ]
  },
  {
   "cell_type": "code",
   "execution_count": null,
   "metadata": {
    "collapsed": true
   },
   "outputs": [],
   "source": [
    "def plot_v_response_with_distance(conductance_type):\n",
    "    distances = np.linspace(0, 1200, 5)\n",
    "    close('all')\n",
    "    fig = figure()\n",
    "    fig.text(0.5, 0.95, conductance_type.capitalize() + ' conductances', ha='center', size=17)\n",
    "    ax1 = subplot(121, ylim=[-0.2, 1.2])\n",
    "    ax2 = subplot(122, ylim=[-65.2, -64])\n",
    "    for dist in distances:\n",
    "        cell = return_cell(dist, conductance_type)\n",
    "        return_soma_v_line(cell, [ax1, ax2], dist)\n",
    "    legend()\n",
    "    savefig('exercise_5_2_%s.png' % conductance_type)"
   ]
  },
  {
   "cell_type": "code",
   "execution_count": null,
   "metadata": {
    "collapsed": true
   },
   "outputs": [],
   "source": [
    "def coincidence_detection(conductance_type):\n",
    "    #input_spike_train = np.array([20, 50, 80])\n",
    "    input_spike_train = np.array([20, 60, 100])\n",
    "\n",
    "    cell = return_cell(conductance_type=conductance_type, \n",
    "                       input_spike_train=input_spike_train, \n",
    "                       synaptic_y_pos=1100)\n",
    "    input_idx = cell.synidx[0]\n",
    "    soma_idx = 0\n",
    "    close('all')\n",
    "    fig = figure()\n",
    "\n",
    "    fig.text(0.5, 0.95, conductance_type.capitalize() + ' conductances', ha='center', size=17)\n",
    "    subplots_adjust(wspace=0.5, hspace=0.5)\n",
    "    subplot(121, aspect='equal', frameon=False, xticks=[])\n",
    "    [plot([cell.xstart[idx], cell.xend[idx]], [cell.ystart[idx], cell.yend[idx]], c='k') \n",
    "     for idx in range(cell.totnsegs)]\n",
    "    plot(cell.xmid[cell.synidx], cell.ymid[cell.synidx], 'ro')\n",
    "\n",
    "    subplot(222, title='Input\\nmembrane potential', ylim=[-70, -35])\n",
    "    plot(cell.tvec, cell.vmem[input_idx, :])\n",
    "\n",
    "    subplot(224, title='Soma\\nmembrane potential', ylim=[-65.02, -64.6])\n",
    "    plot(cell.tvec, cell.vmem[soma_idx, :])\n",
    "    savefig('exercise_5_3_%s.png' % conductance_type)\n",
    "    print(input_idx)"
   ]
  },
  {
   "cell_type": "markdown",
   "metadata": {},
   "source": [
    "__(i)__ For the simplest example of a single spike, uncomment the two first lines in the cell below and run.\n",
    "\n",
    "__(ii)__ To see the somatic response to increasingly distant apical synaptic input in a passive neuron, uncomment line 1 and 3 in the cell below and run (making several plots at the same time gives figure conflicts, but you may save figures for comparison). To see the same for an active neuron, uncomment lines 1 and 4 and run. We note that the width of the synaptic response increases with distance for the passive case, but not (or much less) for the active case. For the active model, you can also see that the somatic voltage trace resulting from a distal apical input contains a hyperpolarized overshoot (or 'undershoot') after the initial depolarization. This is caused by the IH conductance, and you can read more about it in the reference: Williams SR & Stuart GJ (2000): Site Independence of EPSP Time Course Is Mediated by Dendritic Ih in Neocortical Pyramidal Neurons. J Neurophysiol 83: 3177-3182."
   ]
  },
  {
   "cell_type": "code",
   "execution_count": null,
   "metadata": {
    "collapsed": false
   },
   "outputs": [],
   "source": [
    "#cell = return_cell(conductance_type='active', weight=0.3)\n",
    "#plot_cell(cell)\n",
    "#plot_v_response_with_distance('passive')\n",
    "#plot_v_response_with_distance('active')\n"
   ]
  },
  {
   "cell_type": "markdown",
   "metadata": {},
   "source": [
    "__(iii)__ For coincidence detection in a passive neuron, run the first cell below, and for an active neuron, run the second cell. Comparing the cases will show that when three consecutive spikes arrives at a synapse (marked by red dot on morphology) with an inter-spike interval of 30 ms, the membrane potential in the compartment where the input arrives has three distict peak. For the passive model, these inputs are seen to sum a single wide and smeared potential-hump in the soma compartment due to temporal summation and filtering by the passive dendrites. For the case with active conductances this is somewhat different, and the voltage response in the soma has similar temporal width as at the compartment where the spike input arrives. Thus the active conductances compensate for the temporal blurring imposed by the passive dendrites and 'sharpens' up the signal. In this way the active conductances makes the cell more sensitive to detecting coincident synaptic inputs, and it has been speculated that this is the primary role of the IH current (References: Migliore M, Messineo L, Ferrante M (2004): Dendritic Ih selectively blocks temporal summation of unsynchronized distal inputs in CA1 pyramidal neurons. J Comput Neurosci 16: 5-13; Vaidya SP, Johnston D (2013) Temporal synchrony and gamma-to-theta power conversion in the dendrites of CA1 pyramidal neurons. Nat Neurosci 16: 1812-1820.)"
   ]
  },
  {
   "cell_type": "code",
   "execution_count": null,
   "metadata": {
    "collapsed": false,
    "scrolled": false
   },
   "outputs": [],
   "source": [
    "coincidence_detection('passive')"
   ]
  },
  {
   "cell_type": "code",
   "execution_count": null,
   "metadata": {
    "collapsed": true
   },
   "outputs": [],
   "source": [
    "coincidence_detection('active')"
   ]
  },
  {
   "cell_type": "code",
   "execution_count": null,
   "metadata": {
    "collapsed": true
   },
   "outputs": [],
   "source": []
  }
 ],
 "metadata": {
  "kernelspec": {
   "display_name": "Python 3",
   "language": "python",
   "name": "python3"
  },
  "language_info": {
   "codemirror_mode": {
    "name": "ipython",
    "version": 3
   },
   "file_extension": ".py",
   "mimetype": "text/x-python",
   "name": "python",
   "nbconvert_exporter": "python",
   "pygments_lexer": "ipython3",
   "version": "3.6.0"
  }
 },
 "nbformat": 4,
 "nbformat_minor": 2
}

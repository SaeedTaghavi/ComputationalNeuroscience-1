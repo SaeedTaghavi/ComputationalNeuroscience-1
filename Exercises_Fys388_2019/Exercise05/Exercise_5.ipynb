{
 "cells": [
  {
   "cell_type": "code",
   "execution_count": 1,
   "metadata": {},
   "outputs": [
    {
     "name": "stdout",
     "output_type": "stream",
     "text": [
      "Populating the interactive namespace from numpy and matplotlib\n"
     ]
    }
   ],
   "source": [
    "%pylab notebook"
   ]
  },
  {
   "cell_type": "markdown",
   "metadata": {},
   "source": [
    "## Exercise 5: Simple Hay et al. model neuron simulation with one synaptic input\n",
    "\n",
    "In this exercise you will work with a 'state-of-the-art' multi-compartmental model form literature, namely the Hay model (Hay et al. (2011) PLoS Comput Biol 7: e1002107, doi:10.1371/journal.pcbi.1002107). This model has an anatomically reconstructed dendritic morphology (Figure 1), and many active conductances that have been added and fitted to experimental data. Many such cell models are now freely available from online data bases like ModelDB (http://senselab.med.yale.edu/modeldb/), and if you want to make your own model, dendritic morphologies can be downloaded from neuromorpho.org. Scientific papers based solely on simulations with such cell models taken from lit-\n",
    "erature and data bases are not uncommon. In this exercise you will be given a simple example script, exercise 5.py,\n",
    "based on LFPy and Neuron, that you can adapt to solve this exercise."
   ]
  },
  {
   "cell_type": "markdown",
   "metadata": {},
   "source": [
    "<img src=\"Hay-neuron.png\" width = \"100\">\n",
    "\n",
    "Figure 1: Reconstructed morphology of a rat neocortical pyramidal cell by Hay et al. (2011). Experimental recording sites are indicated by schematic electrodes at the soma (black), proximal apical dendrite (400 $\\mu$m from the soma, blue) and distal apical site (620 $\\mu$m from the soma, red). Taken from Figure 1 in Hay et al. (2011),\n",
    "http://journals.plos.org/ploscompbiol/article?id=10.1371/journal.pcbi.1002107"
   ]
  },
  {
   "cell_type": "markdown",
   "metadata": {},
   "source": [
    "__(i)__ Make the cell spike by giving it one or more synaptic inputs. Experiment with different synapse numbers, locations and synaptic strengths. Have fun! \n",
    "\n",
    "__(ii)__ Plot the 'raw' and normalized subthreshold somatic voltage response from synaptic inputs for increasing distances between the synaptic input and the soma. What do you see?\n",
    "\n",
    "__(iii)__ Plot the somatic membrane potential response to a spike train input to a synapse in the distal apical dendrite when the neuron is passive, that is, has no active conductances. The incoming spike train should contain three spikes, with an even interspike interval of 40 ms. How do the synaptic input sum at the input site? How do they sum in the soma compartment? How does it change if the cell has all the original active conductances? (Note that the documentation in the code explains how to turn active conductances on and off.)\n",
    "\n",
    "__(iv)__ [Optional] In the release of the LFPy program (Linden et al. (2014). Frontiers in Neuroinformatics 7:41 (2014), doi: 10.3389/fninf.2013.00041), several example applications were included. They are available through the LFPy website at http://lfpy.github.io/. Test out some of them (but note that the example scripts also produce plots of extracellular potentials which we will go through later in the course)."
   ]
  },
  {
   "cell_type": "code",
   "execution_count": 6,
   "metadata": {},
   "outputs": [
    {
     "name": "stdout",
     "output_type": "stream",
     "text": [
      "Current working directory /home/simen/Exercises_Fys388_2019/Exercise05\n",
      "/home/simen/Exercises_Fys388_2019/Exercise05/hay_model/mod\n",
      "CaDynamics_E2.mod Ca_HVA.mod Ca_LVAst.mod Ih.mod Im.mod K_Pst.mod K_Tst.mod Nap_Et2.mod NaTa_t.mod NaTs2_t.mod SK_E2.mod SKv3_1.mod\n",
      "CaDynamics_E2.mod Ca_HVA.mod Ca_LVAst.mod Ih.mod Im.mod K_Pst.mod K_Tst.mod Nap_Et2.mod NaTa_t.mod NaTs2_t.mod SK_E2.mod SKv3_1.mod\n",
      "\"/home/simen/anaconda3/share/nrn/libtool\" --tag=CC --mode=compile mpicc -DHAVE_CONFIG_H  -I. -I.. -I\"/home/simen/anaconda3/include/nrn\" -I\"/home/simen/anaconda3/lib\"      -march=nocona -mtune=haswell -ftree-vectorize -fPIC -fstack-protector-strong -fno-plt -O2 -ffunction-sections -pipe -I/home/simen/anaconda3/include -fdebug-prefix-map=/home/conda/feedstock_root/build_artifacts/neuron_1558884580637/work=/usr/local/src/conda/neuron-7.6.7 -fdebug-prefix-map=/home/simen/anaconda3=/usr/local/src/conda-prefix -c -o CaDynamics_E2.lo `test -f 'CaDynamics_E2.c' || echo '/'`CaDynamics_E2.c\n",
      "\"/home/simen/anaconda3/share/nrn/libtool\" --tag=CC --mode=compile mpicc -DHAVE_CONFIG_H  -I. -I.. -I\"/home/simen/anaconda3/include/nrn\" -I\"/home/simen/anaconda3/lib\"      -march=nocona -mtune=haswell -ftree-vectorize -fPIC -fstack-protector-strong -fno-plt -O2 -ffunction-sections -pipe -I/home/simen/anaconda3/include -fdebug-prefix-map=/home/conda/feedstock_root/build_artifacts/neuron_1558884580637/work=/usr/local/src/conda/neuron-7.6.7 -fdebug-prefix-map=/home/simen/anaconda3=/usr/local/src/conda-prefix -c -o Ca_HVA.lo `test -f 'Ca_HVA.c' || echo '/'`Ca_HVA.c\n",
      "\"/home/simen/anaconda3/share/nrn/libtool\" --tag=CC --mode=compile mpicc -DHAVE_CONFIG_H  -I. -I.. -I\"/home/simen/anaconda3/include/nrn\" -I\"/home/simen/anaconda3/lib\"      -march=nocona -mtune=haswell -ftree-vectorize -fPIC -fstack-protector-strong -fno-plt -O2 -ffunction-sections -pipe -I/home/simen/anaconda3/include -fdebug-prefix-map=/home/conda/feedstock_root/build_artifacts/neuron_1558884580637/work=/usr/local/src/conda/neuron-7.6.7 -fdebug-prefix-map=/home/simen/anaconda3=/usr/local/src/conda-prefix -c -o Ca_LVAst.lo `test -f 'Ca_LVAst.c' || echo '/'`Ca_LVAst.c\n",
      "\"/home/simen/anaconda3/share/nrn/libtool\" --tag=CC --mode=compile mpicc -DHAVE_CONFIG_H  -I. -I.. -I\"/home/simen/anaconda3/include/nrn\" -I\"/home/simen/anaconda3/lib\"      -march=nocona -mtune=haswell -ftree-vectorize -fPIC -fstack-protector-strong -fno-plt -O2 -ffunction-sections -pipe -I/home/simen/anaconda3/include -fdebug-prefix-map=/home/conda/feedstock_root/build_artifacts/neuron_1558884580637/work=/usr/local/src/conda/neuron-7.6.7 -fdebug-prefix-map=/home/simen/anaconda3=/usr/local/src/conda-prefix -c -o Ih.lo `test -f 'Ih.c' || echo '/'`Ih.c\n",
      "libtool: compile:  mpicc -DHAVE_CONFIG_H -I. -I.. -I/home/simen/anaconda3/include/nrn -I/home/simen/anaconda3/lib -march=nocona -mtune=haswell -ftree-vectorize -fPIC -fstack-protector-strong -fno-plt -O2 -ffunction-sections -pipe -I/home/simen/anaconda3/include -fdebug-prefix-map=/home/conda/feedstock_root/build_artifacts/neuron_1558884580637/work=/usr/local/src/conda/neuron-7.6.7 -fdebug-prefix-map=/home/simen/anaconda3=/usr/local/src/conda-prefix -c CaDynamics_E2.c  -fPIC -DPIC -o .libs/CaDynamics_E2.o\n",
      "libtool: compile:  mpicc -DHAVE_CONFIG_H -I. -I.. -I/home/simen/anaconda3/include/nrn -I/home/simen/anaconda3/lib -march=nocona -mtune=haswell -ftree-vectorize -fPIC -fstack-protector-strong -fno-plt -O2 -ffunction-sections -pipe -I/home/simen/anaconda3/include -fdebug-prefix-map=/home/conda/feedstock_root/build_artifacts/neuron_1558884580637/work=/usr/local/src/conda/neuron-7.6.7 -fdebug-prefix-map=/home/simen/anaconda3=/usr/local/src/conda-prefix -c Ca_HVA.c  -fPIC -DPIC -o .libs/Ca_HVA.o\n",
      "libtool: compile:  mpicc -DHAVE_CONFIG_H -I. -I.. -I/home/simen/anaconda3/include/nrn -I/home/simen/anaconda3/lib -march=nocona -mtune=haswell -ftree-vectorize -fPIC -fstack-protector-strong -fno-plt -O2 -ffunction-sections -pipe -I/home/simen/anaconda3/include -fdebug-prefix-map=/home/conda/feedstock_root/build_artifacts/neuron_1558884580637/work=/usr/local/src/conda/neuron-7.6.7 -fdebug-prefix-map=/home/simen/anaconda3=/usr/local/src/conda-prefix -c Ca_LVAst.c  -fPIC -DPIC -o .libs/Ca_LVAst.o\n",
      "libtool: compile:  mpicc -DHAVE_CONFIG_H -I. -I.. -I/home/simen/anaconda3/include/nrn -I/home/simen/anaconda3/lib -march=nocona -mtune=haswell -ftree-vectorize -fPIC -fstack-protector-strong -fno-plt -O2 -ffunction-sections -pipe -I/home/simen/anaconda3/include -fdebug-prefix-map=/home/conda/feedstock_root/build_artifacts/neuron_1558884580637/work=/usr/local/src/conda/neuron-7.6.7 -fdebug-prefix-map=/home/simen/anaconda3=/usr/local/src/conda-prefix -c Ih.c  -fPIC -DPIC -o .libs/Ih.o\n",
      "/home/simen/anaconda3/bin/mpicc: line 282: x86_64-conda_cos6-linux-gnu-cc: command not found\n",
      "/home/simen/anaconda3/bin/nrnmech_makefile:81: recipe for target 'Ca_LVAst.lo' failed\n",
      "make: *** [Ca_LVAst.lo] Error 1\n",
      "make: *** Waiting for unfinished jobs....\n",
      "/home/simen/anaconda3/bin/mpicc: line 282: x86_64-conda_cos6-linux-gnu-cc: command not found\n",
      "/home/simen/anaconda3/bin/mpicc: line 282: x86_64-conda_cos6-linux-gnu-cc: command not found\n",
      "/home/simen/anaconda3/bin/nrnmech_makefile:81: recipe for target 'Ih.lo' failed\n",
      "make: *** [Ih.lo] Error 1\n",
      "/home/simen/anaconda3/bin/mpicc: line 282: x86_64-conda_cos6-linux-gnu-cc: command not found\n",
      "/home/simen/anaconda3/bin/nrnmech_makefile:81: recipe for target 'Ca_HVA.lo' failed\n",
      "make: *** [Ca_HVA.lo] Error 1\n",
      "/home/simen/anaconda3/bin/nrnmech_makefile:81: recipe for target 'CaDynamics_E2.lo' failed\n",
      "make: *** [CaDynamics_E2.lo] Error 1\n"
     ]
    }
   ],
   "source": [
    "import os\n",
    "retval = os.getcwd()\n",
    "print(\"Current working directory %s\" % retval)\n",
    "os.chdir(\"hay_model/mod/\")\n",
    "!nrnivmodl\n",
    "os.chdir(retval)\n",
    "\n",
    "from os.path import join\n",
    "import numpy as np\n",
    "import neuron\n",
    "import LFPy\n",
    "from hay_model.hay_active_declarations import active_declarations\n",
    "nrn = neuron.h"
   ]
  },
  {
   "cell_type": "code",
   "execution_count": 3,
   "metadata": {},
   "outputs": [],
   "source": [
    "def return_cell(synaptic_y_pos=900, conductance_type='active', weight=0.001, input_spike_train=np.array([10.])):\n",
    "    \"\"\"\n",
    "    Runs a NEURON simulation and returns an LFPy cell object for a single synaptic input.\n",
    "    :param synaptic_y_pos: position along the apical dendrite where the synapse is inserted.\n",
    "    :param conductance_type: Either 'active' or 'passive'. If 'active' all original ion-channels are included,\n",
    "           if 'passive' they are all removed, yielding a passive cell model.\n",
    "    :param weight: Strength of synaptic input.\n",
    "    :param input_spike_train: Numpy array containing synaptic spike times\n",
    "    :return: cell object where cell.imem gives transmembrane currents, cell.vmem gives membrane potentials.\n",
    "             See LFPy documentation for more details and examples.\n",
    "    \"\"\"\n",
    "    nrn('forall delete_section()')\n",
    "    model_path = join('hay_model')\n",
    "    neuron.load_mechanisms(join(model_path, 'mod'))\n",
    "    cell_parameters = {\n",
    "        'morphology': join(model_path, 'cell1.hoc'),\n",
    "        'v_init': -65,\n",
    "        'passive': False,\n",
    "        'nsegs_method': 'lambda_f',\n",
    "        'lambda_f': 100,\n",
    "        'dt': 2**-3,  # Should be a power of 2\n",
    "        'tstart': -200,\n",
    "        'tstop': 200,\n",
    "        'custom_code': [join(model_path, 'custom_codes.hoc')],\n",
    "        'custom_fun': [active_declarations],\n",
    "        'custom_fun_args': [{'conductance_type': conductance_type}],\n",
    "    }\n",
    "    cell = LFPy.Cell(**cell_parameters)\n",
    "    synapse_parameters = {\n",
    "        'idx': cell.get_closest_idx(x=0., y=synaptic_y_pos, z=0.),\n",
    "        'e': 0.,\n",
    "        'syntype': 'ExpSyn',\n",
    "        'tau': 10.,\n",
    "        'weight': weight,\n",
    "        'record_current': True,\n",
    "    }\n",
    "    synapse = LFPy.Synapse(cell, **synapse_parameters)\n",
    "    synapse.set_spike_times(input_spike_train)\n",
    "    cell.simulate(rec_imem=True, rec_vmem=True)\n",
    "    return cell"
   ]
  },
  {
   "cell_type": "code",
   "execution_count": 4,
   "metadata": {},
   "outputs": [],
   "source": [
    "def plot_cell(cell):\n",
    "    cell_plot_idx = 0\n",
    "    subplots_adjust(hspace=0.5)  # Adjusts the vertical distance between panels.\n",
    "    subplot(121, aspect='equal', xticks=[], xlabel='x', ylabel='y [$\\mu m$]')\n",
    "    [plot([cell.xstart[idx], cell.xend[idx]], [cell.ystart[idx], cell.yend[idx]], c='k') \n",
    "     for idx in range(cell.totnsegs)]\n",
    "    plot(cell.xmid[cell.synidx], cell.ymid[cell.synidx], 'ro')\n",
    "    subplot(222, title='Membrane potential', xlabel='Time [ms]', ylabel='mV')\n",
    "    plot(cell.tvec, cell.vmem[cell_plot_idx, :])\n",
    "    subplot(224, title='Transmembrane currents', xlabel='Time [ms]', ylabel='nA')\n",
    "    plot(cell.tvec, cell.imem[cell_plot_idx, :])\n",
    "    show()"
   ]
  },
  {
   "cell_type": "code",
   "execution_count": 5,
   "metadata": {
    "scrolled": true
   },
   "outputs": [
    {
     "name": "stdout",
     "output_type": "stream",
     "text": [
      "NEURON mechanisms not found in hay_model/mod.\n"
     ]
    },
    {
     "ename": "ValueError",
     "evalue": "argument not a density mechanism name.",
     "output_type": "error",
     "traceback": [
      "\u001b[0;31m---------------------------------------------------------------------------\u001b[0m",
      "\u001b[0;31mValueError\u001b[0m                                Traceback (most recent call last)",
      "\u001b[0;32m<ipython-input-5-346290abf50e>\u001b[0m in \u001b[0;36m<module>\u001b[0;34m\u001b[0m\n\u001b[0;32m----> 1\u001b[0;31m \u001b[0mcell\u001b[0m \u001b[0;34m=\u001b[0m \u001b[0mreturn_cell\u001b[0m\u001b[0;34m(\u001b[0m\u001b[0;34m)\u001b[0m\u001b[0;34m\u001b[0m\u001b[0;34m\u001b[0m\u001b[0m\n\u001b[0m\u001b[1;32m      2\u001b[0m \u001b[0mplot_cell\u001b[0m\u001b[0;34m(\u001b[0m\u001b[0mcell\u001b[0m\u001b[0;34m)\u001b[0m\u001b[0;34m\u001b[0m\u001b[0;34m\u001b[0m\u001b[0m\n",
      "\u001b[0;32m<ipython-input-3-da19620af9b1>\u001b[0m in \u001b[0;36mreturn_cell\u001b[0;34m(synaptic_y_pos, conductance_type, weight, input_spike_train)\u001b[0m\n\u001b[1;32m     26\u001b[0m         \u001b[0;34m'custom_fun_args'\u001b[0m\u001b[0;34m:\u001b[0m \u001b[0;34m[\u001b[0m\u001b[0;34m{\u001b[0m\u001b[0;34m'conductance_type'\u001b[0m\u001b[0;34m:\u001b[0m \u001b[0mconductance_type\u001b[0m\u001b[0;34m}\u001b[0m\u001b[0;34m]\u001b[0m\u001b[0;34m,\u001b[0m\u001b[0;34m\u001b[0m\u001b[0;34m\u001b[0m\u001b[0m\n\u001b[1;32m     27\u001b[0m     }\n\u001b[0;32m---> 28\u001b[0;31m     \u001b[0mcell\u001b[0m \u001b[0;34m=\u001b[0m \u001b[0mLFPy\u001b[0m\u001b[0;34m.\u001b[0m\u001b[0mCell\u001b[0m\u001b[0;34m(\u001b[0m\u001b[0;34m**\u001b[0m\u001b[0mcell_parameters\u001b[0m\u001b[0;34m)\u001b[0m\u001b[0;34m\u001b[0m\u001b[0;34m\u001b[0m\u001b[0m\n\u001b[0m\u001b[1;32m     29\u001b[0m     synapse_parameters = {\n\u001b[1;32m     30\u001b[0m         \u001b[0;34m'idx'\u001b[0m\u001b[0;34m:\u001b[0m \u001b[0mcell\u001b[0m\u001b[0;34m.\u001b[0m\u001b[0mget_closest_idx\u001b[0m\u001b[0;34m(\u001b[0m\u001b[0mx\u001b[0m\u001b[0;34m=\u001b[0m\u001b[0;36m0.\u001b[0m\u001b[0;34m,\u001b[0m \u001b[0my\u001b[0m\u001b[0;34m=\u001b[0m\u001b[0msynaptic_y_pos\u001b[0m\u001b[0;34m,\u001b[0m \u001b[0mz\u001b[0m\u001b[0;34m=\u001b[0m\u001b[0;36m0.\u001b[0m\u001b[0;34m)\u001b[0m\u001b[0;34m,\u001b[0m\u001b[0;34m\u001b[0m\u001b[0;34m\u001b[0m\u001b[0m\n",
      "\u001b[0;32m~/anaconda3/lib/python3.7/site-packages/LFPy/cell.py\u001b[0m in \u001b[0;36m__init__\u001b[0;34m(self, morphology, v_init, Ra, cm, passive, passive_parameters, extracellular, tstart, tstop, dt, nsegs_method, lambda_f, d_lambda, max_nsegs_length, delete_sections, custom_code, custom_fun, custom_fun_args, pt3d, celsius, verbose, **kwargs)\u001b[0m\n\u001b[1;32m    273\u001b[0m         \u001b[0;31m#run user specified code and functions if argument given\u001b[0m\u001b[0;34m\u001b[0m\u001b[0;34m\u001b[0m\u001b[0;34m\u001b[0m\u001b[0m\n\u001b[1;32m    274\u001b[0m         \u001b[0;32mif\u001b[0m \u001b[0mcustom_code\u001b[0m \u001b[0;32mis\u001b[0m \u001b[0;32mnot\u001b[0m \u001b[0;32mNone\u001b[0m \u001b[0;32mor\u001b[0m \u001b[0mcustom_fun\u001b[0m \u001b[0;32mis\u001b[0m \u001b[0;32mnot\u001b[0m \u001b[0;32mNone\u001b[0m\u001b[0;34m:\u001b[0m\u001b[0;34m\u001b[0m\u001b[0;34m\u001b[0m\u001b[0m\n\u001b[0;32m--> 275\u001b[0;31m             \u001b[0mself\u001b[0m\u001b[0;34m.\u001b[0m\u001b[0m_run_custom_codes\u001b[0m\u001b[0;34m(\u001b[0m\u001b[0mcustom_code\u001b[0m\u001b[0;34m,\u001b[0m \u001b[0mcustom_fun\u001b[0m\u001b[0;34m,\u001b[0m \u001b[0mcustom_fun_args\u001b[0m\u001b[0;34m)\u001b[0m\u001b[0;34m\u001b[0m\u001b[0;34m\u001b[0m\u001b[0m\n\u001b[0m\u001b[1;32m    276\u001b[0m \u001b[0;34m\u001b[0m\u001b[0m\n\u001b[1;32m    277\u001b[0m         \u001b[0;31m#Insert extracellular mech on all segments\u001b[0m\u001b[0;34m\u001b[0m\u001b[0;34m\u001b[0m\u001b[0;34m\u001b[0m\u001b[0m\n",
      "\u001b[0;32m~/anaconda3/lib/python3.7/site-packages/LFPy/cell.py\u001b[0m in \u001b[0;36m_run_custom_codes\u001b[0;34m(self, custom_code, custom_fun, custom_fun_args)\u001b[0m\n\u001b[1;32m    394\u001b[0m         \u001b[0;32mif\u001b[0m \u001b[0mcustom_fun\u001b[0m \u001b[0;32mis\u001b[0m \u001b[0;32mnot\u001b[0m \u001b[0;32mNone\u001b[0m\u001b[0;34m:\u001b[0m\u001b[0;34m\u001b[0m\u001b[0;34m\u001b[0m\u001b[0m\n\u001b[1;32m    395\u001b[0m             \u001b[0;32mfor\u001b[0m \u001b[0mfun\u001b[0m \u001b[0;32min\u001b[0m \u001b[0mcustom_fun\u001b[0m\u001b[0;34m:\u001b[0m\u001b[0;34m\u001b[0m\u001b[0;34m\u001b[0m\u001b[0m\n\u001b[0;32m--> 396\u001b[0;31m                 \u001b[0mfun\u001b[0m\u001b[0;34m(\u001b[0m\u001b[0;34m**\u001b[0m\u001b[0mcustom_fun_args\u001b[0m\u001b[0;34m[\u001b[0m\u001b[0mi\u001b[0m\u001b[0;34m]\u001b[0m\u001b[0;34m)\u001b[0m\u001b[0;34m\u001b[0m\u001b[0;34m\u001b[0m\u001b[0m\n\u001b[0m\u001b[1;32m    397\u001b[0m                 \u001b[0mi\u001b[0m \u001b[0;34m+=\u001b[0m \u001b[0;36m1\u001b[0m\u001b[0;34m\u001b[0m\u001b[0;34m\u001b[0m\u001b[0m\n\u001b[1;32m    398\u001b[0m \u001b[0;34m\u001b[0m\u001b[0m\n",
      "\u001b[0;32m~/Exercises_Fys388_2019/Exercise05/hay_model/hay_active_declarations.py\u001b[0m in \u001b[0;36mactive_declarations\u001b[0;34m(**kwargs)\u001b[0m\n\u001b[1;32m    122\u001b[0m     \u001b[0mnrn\u001b[0m\u001b[0;34m.\u001b[0m\u001b[0mgeom_nseg\u001b[0m\u001b[0;34m(\u001b[0m\u001b[0;34m)\u001b[0m\u001b[0;34m\u001b[0m\u001b[0;34m\u001b[0m\u001b[0m\n\u001b[1;32m    123\u001b[0m     \u001b[0mnrn\u001b[0m\u001b[0;34m.\u001b[0m\u001b[0mdefine_shape\u001b[0m\u001b[0;34m(\u001b[0m\u001b[0;34m)\u001b[0m\u001b[0;34m\u001b[0m\u001b[0;34m\u001b[0m\u001b[0m\n\u001b[0;32m--> 124\u001b[0;31m     \u001b[0mexec\u001b[0m\u001b[0;34m(\u001b[0m\u001b[0;34m'biophys_%s()'\u001b[0m \u001b[0;34m%\u001b[0m \u001b[0mkwargs\u001b[0m\u001b[0;34m[\u001b[0m\u001b[0;34m'conductance_type'\u001b[0m\u001b[0;34m]\u001b[0m\u001b[0;34m)\u001b[0m\u001b[0;34m\u001b[0m\u001b[0;34m\u001b[0m\u001b[0m\n\u001b[0m",
      "\u001b[0;32m~/Exercises_Fys388_2019/Exercise05/hay_model/hay_active_declarations.py\u001b[0m in \u001b[0;36m<module>\u001b[0;34m\u001b[0m\n",
      "\u001b[0;32m~/Exercises_Fys388_2019/Exercise05/hay_model/hay_active_declarations.py\u001b[0m in \u001b[0;36mbiophys_active\u001b[0;34m()\u001b[0m\n\u001b[1;32m     59\u001b[0m         \u001b[0msec\u001b[0m\u001b[0;34m.\u001b[0m\u001b[0me_pas\u001b[0m \u001b[0;34m=\u001b[0m \u001b[0;34m-\u001b[0m\u001b[0;36m90.\u001b[0m\u001b[0;34m\u001b[0m\u001b[0;34m\u001b[0m\u001b[0m\n\u001b[1;32m     60\u001b[0m     \u001b[0;32mfor\u001b[0m \u001b[0msec\u001b[0m \u001b[0;32min\u001b[0m \u001b[0mneuron\u001b[0m\u001b[0;34m.\u001b[0m\u001b[0mh\u001b[0m\u001b[0;34m.\u001b[0m\u001b[0msoma\u001b[0m\u001b[0;34m:\u001b[0m\u001b[0;34m\u001b[0m\u001b[0;34m\u001b[0m\u001b[0m\n\u001b[0;32m---> 61\u001b[0;31m         \u001b[0msec\u001b[0m\u001b[0;34m.\u001b[0m\u001b[0minsert\u001b[0m\u001b[0;34m(\u001b[0m\u001b[0;34m'Ca_LVAst'\u001b[0m\u001b[0;34m)\u001b[0m\u001b[0;34m\u001b[0m\u001b[0;34m\u001b[0m\u001b[0m\n\u001b[0m\u001b[1;32m     62\u001b[0m         \u001b[0msec\u001b[0m\u001b[0;34m.\u001b[0m\u001b[0minsert\u001b[0m\u001b[0;34m(\u001b[0m\u001b[0;34m'Ca_HVA'\u001b[0m\u001b[0;34m)\u001b[0m\u001b[0;34m\u001b[0m\u001b[0;34m\u001b[0m\u001b[0m\n\u001b[1;32m     63\u001b[0m         \u001b[0msec\u001b[0m\u001b[0;34m.\u001b[0m\u001b[0minsert\u001b[0m\u001b[0;34m(\u001b[0m\u001b[0;34m'SKv3_1'\u001b[0m\u001b[0;34m)\u001b[0m\u001b[0;34m\u001b[0m\u001b[0;34m\u001b[0m\u001b[0m\n",
      "\u001b[0;31mValueError\u001b[0m: argument not a density mechanism name."
     ]
    }
   ],
   "source": [
    "cell = return_cell()\n",
    "plot_cell(cell)"
   ]
  },
  {
   "cell_type": "code",
   "execution_count": null,
   "metadata": {
    "collapsed": true
   },
   "outputs": [],
   "source": []
  },
  {
   "cell_type": "code",
   "execution_count": null,
   "metadata": {
    "collapsed": true
   },
   "outputs": [],
   "source": []
  }
 ],
 "metadata": {
  "kernelspec": {
   "display_name": "Python 3",
   "language": "python",
   "name": "python3"
  },
  "language_info": {
   "codemirror_mode": {
    "name": "ipython",
    "version": 3
   },
   "file_extension": ".py",
   "mimetype": "text/x-python",
   "name": "python",
   "nbconvert_exporter": "python",
   "pygments_lexer": "ipython3",
   "version": "3.7.3"
  }
 },
 "nbformat": 4,
 "nbformat_minor": 2
}

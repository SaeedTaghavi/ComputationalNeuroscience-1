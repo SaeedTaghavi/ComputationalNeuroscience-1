{
 "cells": [
  {
   "cell_type": "markdown",
   "metadata": {},
   "source": [
    "# Solution to Exercise 4: Ball-and-stick neuron: Rall versus Eccles\n",
    "\n",
    "Example code for solving this exercise is found below. \n",
    "\n",
    "__(i)__ As seen in the first figure below (execute `exercise_4_1()` at the (almost) bottom of the notebook file), the ball-and-stick neuron model gives the best fit for the normalized charging curve. The figure shows the charging curve of the soma, following the injection of a constant current starting at $t$ = 10 ms for (virtual) experimental data (gray), a lone soma model (blue) and a ball-and-stick model (green). Note that only the shape of the curve matters here as both the lone-soma and ball-and-stick neuron model are linear so that the amplitude is simply proportional to the input current. Note also that this 'best fit' is obtained for a dendritic stick diameter of 2 $\\mu$m. Other values for this parameter would give a poorer agreement. Test it out in the Python program yourself!\n",
    "\n",
    "__(ii)__ The second figure below (execute `exercise_4_2()` at the (almost)bottom of the notebook file) shows the somatic potential response, both in absolute terms (top) and in relative terms (bottom), to a square current pulse lasting 5~ms injected at different dendrite height above the soma (labeled in micrometers). As the figure shows, the somatic voltage response becomes smaller and peaks later when the input is moved farther away from the soma along the dendrite. Thus, the stick dendrite is acting as a lowpass filter, that is, the higher frequency components of the input signal is dampened the most.\n",
    "\n",
    "__(iii)__ The third figure below (execute `exercise_4_3()` at the bottom of the notebook file) essentially shows the same simulation as we did in __(ii)__, but with Hodgkin-Huxley mechanisms added in the soma of the neuron. The stimulus amplitude was increased so it became strong enough to induce an action potential in the neuron when the synapse was in the soma or close to the soma, but not when it was further out in the dendrite.\n",
    "  "
   ]
  },
  {
   "cell_type": "code",
   "execution_count": null,
   "metadata": {
    "collapsed": false
   },
   "outputs": [],
   "source": [
    "%pylab notebook"
   ]
  },
  {
   "cell_type": "code",
   "execution_count": null,
   "metadata": {
    "collapsed": true
   },
   "outputs": [],
   "source": [
    "import numpy as np\n",
    "import neuron\n",
    "nrn = neuron.h"
   ]
  },
  {
   "cell_type": "code",
   "execution_count": null,
   "metadata": {
    "collapsed": true
   },
   "outputs": [],
   "source": [
    "def full_morph_pulse_stim_simulation():\n",
    "    \"\"\"\n",
    "    Runs a NEURON simulation and returns an LFPy cell object for a current pulse input.\n",
    "\n",
    "    :return: cell object where cell.imem gives transmembrane currents, cell.vmem gives membrane potentials.\n",
    "             See LFPy documentation for more details and examples.\n",
    "    \"\"\"\n",
    "    from hay_model.hay_active_declarations import active_declarations\n",
    "    import LFPy\n",
    "    from os.path import join\n",
    "\n",
    "    conductance_type = 'passive_uniform'\n",
    "\n",
    "    model_path = join('hay_model')\n",
    "    neuron.load_mechanisms(join(model_path, 'mod'))\n",
    "    cell_parameters = {\n",
    "        'morphology': join(model_path, 'cell1.hoc'),\n",
    "        'v_init': -65,\n",
    "        'passive': False,\n",
    "        'nsegs_method': 'lambda_f',\n",
    "        'lambda_f': 100,\n",
    "        'timeres_NEURON': 2**-3, # Should be a power of 2\n",
    "        'timeres_python': 2**-3,\n",
    "        'tstartms': 0,\n",
    "        'tstopms': 200,\n",
    "        'custom_code': [join(model_path, 'custom_codes.hoc')],\n",
    "        'custom_fun': [active_declarations],  # will execute this function\n",
    "        'custom_fun_args': [{'conductance_type': conductance_type}],\n",
    "    }\n",
    "    cell = LFPy.Cell(**cell_parameters)\n",
    "    pointprocess = {\n",
    "                'idx': 0,\n",
    "                'record_current': True,\n",
    "                'pptype': 'IClamp',\n",
    "                'amp': 0.05,\n",
    "                'dur': 1e9,\n",
    "                'delay': 10,\n",
    "                }\n",
    "    stimulus = LFPy.StimIntElectrode(cell, **pointprocess)\n",
    "    cell.simulate(rec_imem=True, rec_vmem=True)\n",
    "\n",
    "    noise = 0#np.random.normal(0, 0.0002*np.sqrt(np.average(cell.somav**2)), size=cell.somav.shape)\n",
    "    np.save('exp_t.npy', cell.tvec)\n",
    "    np.save('exp_v.npy', cell.somav + noise)\n",
    "\n",
    "    plot(cell.tvec, cell.somav + noise, lw=2, c='gray')\n",
    "    xlabel('Time [ms]')\n",
    "    ylabel('Somatic membrane potential [mV]')\n",
    "    savefig('exercise_4_exp.png')\n",
    "\n",
    "    # return cell"
   ]
  },
  {
   "cell_type": "code",
   "execution_count": null,
   "metadata": {
    "collapsed": true
   },
   "outputs": [],
   "source": [
    "def return_ball_and_stick_soma():\n",
    "    \"\"\"\n",
    "    Makes a ball-and-stick neuron model.\n",
    "    :return: soma and dendrite NEURON objects. Both must be returned, or they are lost.\n",
    "    \"\"\"\n",
    "    soma = nrn.Section('soma')\n",
    "    soma.L = 15  # um; stored as a float number\n",
    "    soma.diam = 15  # um\n",
    "    soma.nseg = 1  # stored as an integer\n",
    "\n",
    "    dend = nrn.Section('dend')\n",
    "    dend.L = 1000\n",
    "    dend.diam = 2\n",
    "    dend.nseg = int(dend.L/10)\n",
    "\n",
    "    dend.connect(soma, 1, 0)\n",
    "\n",
    "    for sec in nrn.allsec():\n",
    "        sec.insert('pas')\n",
    "        sec.Ra = 100\n",
    "        sec.cm = 1\n",
    "        for seg in sec:\n",
    "            seg.g_pas = 0.00003\n",
    "            seg.e_pas = -65\n",
    "    #print \"Ball and stick membrane time constant:\",  1e-3 * 1/0.0003 * 1\n",
    "    return soma, dend"
   ]
  },
  {
   "cell_type": "code",
   "execution_count": null,
   "metadata": {
    "collapsed": true
   },
   "outputs": [],
   "source": [
    "def return_lone_soma():\n",
    "    \"\"\"\n",
    "    Makes a neuron model containing a single soma.\n",
    "    :return: soma NEURON object. This must be returned, or it is lost.\n",
    "    \"\"\"\n",
    "\n",
    "    soma = nrn.Section('soma')\n",
    "    soma.L = 15  # um; stored as a float number\n",
    "    soma.diam = 15  # um\n",
    "    soma.nseg = 1  # stored as an integer\n",
    "\n",
    "    for sec in nrn.allsec():\n",
    "        sec.insert('pas')\n",
    "        sec.Ra = 100\n",
    "        sec.cm = 1\n",
    "        for seg in sec:\n",
    "            seg.g_pas = 0.00003\n",
    "            seg.e_pas = -65\n",
    "    #print \"Lone soma membrane time constant:\",  1e-3 * 1/0.0003 * 1\n",
    "    return soma"
   ]
  },
  {
   "cell_type": "code",
   "execution_count": null,
   "metadata": {
    "collapsed": true
   },
   "outputs": [],
   "source": [
    "def return_ball_and_stick_soma_hh():\n",
    "    \"\"\"\n",
    "    Makes a ball-and-stick neuron model with hh-channels.\n",
    "    :return: soma and dendrite NEURON objects. Both must be returned, or they are lost.\n",
    "    \"\"\"\n",
    "    \n",
    "    soma = nrn.Section('soma')\n",
    "    soma.L = 15  # um; stored as a float number\n",
    "    soma.diam = 15  # um\n",
    "    soma.nseg = 1  # stored as an integer\n",
    "\n",
    "    dend = nrn.Section('dend')\n",
    "    dend.L = 1000\n",
    "    dend.diam = 2\n",
    "    dend.nseg = int(dend.L/10)\n",
    "\n",
    "    dend.connect(soma, 1, 0)\n",
    "\n",
    "    for sec in nrn.allsec():\n",
    "        sec.insert('pas')\n",
    "        sec.Ra = 100\n",
    "        sec.cm = 1\n",
    "        for seg in sec:\n",
    "            seg.g_pas = 0.00003\n",
    "            seg.e_pas = -65\n",
    "    soma.insert('hh')\n",
    "\n",
    "    return soma, dend"
   ]
  },
  {
   "cell_type": "code",
   "execution_count": null,
   "metadata": {
    "collapsed": true
   },
   "outputs": [],
   "source": [
    "def insert_current_clamp(input_site, dur=1e9, amp = 0.005):\n",
    "    \"\"\"\n",
    "    Inserts a current clamp in the neuron model\n",
    "    :param input_site: Where to place the current clamp. Example: soma(0.5), where 0.5 means 'center',\n",
    "           0 would mean start, and 1 would mean at the end of the segment in question.\n",
    "           dur: Duration of the current pulse.\n",
    "    :return: The NEURON object current clamp. This must be returned, otherwise it is lost.\n",
    "    \"\"\"\n",
    "    stim = nrn.IClamp(input_site)\n",
    "    stim.delay = 10\n",
    "    stim.amp = amp\n",
    "    stim.dur = dur\n",
    "    return stim"
   ]
  },
  {
   "cell_type": "code",
   "execution_count": null,
   "metadata": {
    "collapsed": true
   },
   "outputs": [],
   "source": [
    "def run_simulation(record_site):\n",
    "    \"\"\"\n",
    "    Runs the NEURON simulation\n",
    "    :param record_site: Where to record membrane potential from. Example: soma(0.5), where 0.5 means 'center',\n",
    "           0 would mean start, and 1 would mean at the end of the segment in question.\n",
    "    :return: Time and voltage numpy arrays\n",
    "    \"\"\"\n",
    "    rec_t = nrn.Vector()\n",
    "    rec_t.record(nrn._ref_t)\n",
    "    # Record Voltage from the record site\n",
    "    rec_v = nrn.Vector()\n",
    "    rec_v.record(record_site._ref_v)\n",
    "    neuron.h.dt = 2**-3\n",
    "    nrn.finitialize(-65)\n",
    "    neuron.init()\n",
    "    neuron.run(200)\n",
    "    return np.array(rec_t), np.array(rec_v)"
   ]
  },
  {
   "cell_type": "code",
   "execution_count": null,
   "metadata": {
    "collapsed": true
   },
   "outputs": [],
   "source": [
    "def exercise_4_1():\n",
    "\n",
    "    #full_morph_pulse_stim_simulation()\n",
    "\n",
    "    exp_t = np.load('exp_t.npy')\n",
    "    exp_somav = np.load('exp_v.npy')\n",
    "    v_norm_exp = (exp_somav - exp_somav[0]) / np.max(np.abs(exp_somav - exp_somav[0]))\n",
    "\n",
    "    soma_eccles = return_lone_soma()\n",
    "    stim2 = insert_current_clamp(soma_eccles(0.5))\n",
    "    t, v_eccles = run_simulation(soma_eccles(0.5))\n",
    "    v_norm_eccles = (v_eccles - v_eccles[0]) / np.max(np.abs(v_eccles - v_eccles[0]))\n",
    "\n",
    "    del soma_eccles, stim2\n",
    "\n",
    "    soma_rall, dend_rall = return_ball_and_stick_soma()\n",
    "    stim1 = insert_current_clamp(soma_rall(0.5))\n",
    "    t, v_rall = run_simulation(soma_rall(0.5))\n",
    "    v_norm_rall = (v_rall - v_rall[0]) / np.max(np.abs(v_rall - v_rall[0]))\n",
    "\n",
    "    # func = lambda tau, args: 1 - np.exp(-t / tau) - args[0]\n",
    "    # [tau_eccles], cov = leastsq(func, x0=[5], args=[v_norm_eccles])\n",
    "    # [tau_rall], cov = leastsq(func, x0=[5], args=[v_norm_rall])\n",
    "    # print tau_eccles, tau_rall\n",
    "\n",
    "    fig = figure()\n",
    "    ax1 = fig.add_subplot(211)\n",
    "    ax2 = fig.add_subplot(212, xlim=[0, 100], ylim=[-0.1, 1.1])\n",
    "\n",
    "    ax1.plot(t, exp_somav, 'gray', label='\"Experiment\"')\n",
    "    ax2.plot(t, v_norm_exp, 'gray', label='\"Experiment\"')\n",
    "\n",
    "    ax1.plot(t, v_eccles, 'b', label='Eccles')\n",
    "    ax2.plot(t, v_norm_eccles, 'b', label='Eccles')\n",
    "\n",
    "    ax1.plot(t, v_rall, 'g', label='Rall')\n",
    "    ax2.plot(t, v_norm_rall, 'g',  label='Rall')\n",
    "\n",
    "    ax1.set_xlabel(\"Time [ms]\")\n",
    "    ax2.set_xlabel(\"Time [ms]\")\n",
    "    ax1.set_ylabel(\"Voltage [mV]\")\n",
    "    ax2.set_ylabel(\"Normalized voltage\")\n",
    "    legend(loc=4, frameon=False)\n",
    "\n",
    "#    savefig('exercise_4_1.png')"
   ]
  },
  {
   "cell_type": "code",
   "execution_count": null,
   "metadata": {
    "collapsed": true
   },
   "outputs": [],
   "source": [
    "def exercise_4_2():\n",
    "\n",
    "    dend_positions = np.linspace(0, 1, 5)\n",
    "    fig = figure()\n",
    "    ax1 = fig.add_subplot(211)\n",
    "    ax2 = fig.add_subplot(212, xlim=[0, 100], ylim=[-0.1, 1.1])\n",
    "    soma, dend = return_ball_and_stick_soma()\n",
    "\n",
    "    nrn.distance(sec=dend)\n",
    "\n",
    "    for dend_pos in dend_positions:\n",
    "        stim = insert_current_clamp(dend(dend_pos), dur=5)\n",
    "        stim_pos = nrn.distance(dend_pos, sec=dend)\n",
    "        t, v = run_simulation(soma(0.5))\n",
    "        v_norm = (v - v[0]) / np.max(np.abs(v - v[0]))\n",
    "        ax1.plot(t, v, label='%d' % stim_pos)\n",
    "        ax2.plot(t, v_norm, label='%d' % stim_pos)\n",
    "\n",
    "    ax1.set_xlabel(\"Time [ms]\")\n",
    "    ax2.set_xlabel(\"Time [ms]\")\n",
    "    ax1.set_ylabel(\"Voltage [mV]\")\n",
    "    ax2.set_ylabel(\"Normalized voltage\")\n",
    "    legend(loc=4, frameon=False)\n",
    "\n",
    "#    savefig('exercise_4_2.png')"
   ]
  },
  {
   "cell_type": "code",
   "execution_count": null,
   "metadata": {
    "collapsed": true
   },
   "outputs": [],
   "source": [
    "def exercise_4_3():\n",
    "\n",
    "    dend_positions = np.linspace(0, 1, 5)\n",
    "    fig = figure()\n",
    "    ax1 = fig.add_subplot(211)\n",
    "    ax2 = fig.add_subplot(212, xlim=[0, 100], ylim=[-0.1, 1.1])\n",
    "    soma, dend = return_ball_and_stick_soma_hh()\n",
    "\n",
    "    nrn.distance(sec=dend)\n",
    "\n",
    "    for dend_pos in dend_positions:\n",
    "        stim = insert_current_clamp(dend(dend_pos), dur=5, amp = 0.15)\n",
    "        stim_pos = nrn.distance(dend_pos, sec=dend)\n",
    "        t, v = run_simulation(soma(0.5))\n",
    "        v_norm = (v - v[0]) / np.max(np.abs(v - v[0]))\n",
    "        ax1.plot(t, v, label='%d' % stim_pos)\n",
    "        ax2.plot(t, v_norm, label='%d' % stim_pos)\n",
    "\n",
    "    ax1.set_xlabel(\"Time [ms]\")\n",
    "    ax2.set_xlabel(\"Time [ms]\")\n",
    "    ax1.set_ylabel(\"Voltage [mV]\")\n",
    "    ax2.set_ylabel(\"Normalized voltage\")\n",
    "    legend(loc=4, frameon=False)\n",
    "\n",
    "#    savefig('exercise_4_3.png')"
   ]
  },
  {
   "cell_type": "markdown",
   "metadata": {},
   "source": [
    "## main simulation: ##"
   ]
  },
  {
   "cell_type": "code",
   "execution_count": null,
   "metadata": {
    "collapsed": false
   },
   "outputs": [],
   "source": [
    "exercise_4_1()"
   ]
  },
  {
   "cell_type": "code",
   "execution_count": null,
   "metadata": {
    "collapsed": false
   },
   "outputs": [],
   "source": [
    "exercise_4_2()"
   ]
  },
  {
   "cell_type": "code",
   "execution_count": null,
   "metadata": {
    "collapsed": false
   },
   "outputs": [],
   "source": [
    "exercise_4_3()"
   ]
  },
  {
   "cell_type": "code",
   "execution_count": null,
   "metadata": {
    "collapsed": true
   },
   "outputs": [],
   "source": []
  }
 ],
 "metadata": {
  "kernelspec": {
   "display_name": "Python 3",
   "language": "python",
   "name": "python3"
  },
  "language_info": {
   "codemirror_mode": {
    "name": "ipython",
    "version": 3
   },
   "file_extension": ".py",
   "mimetype": "text/x-python",
   "name": "python",
   "nbconvert_exporter": "python",
   "pygments_lexer": "ipython3",
   "version": "3.6.0"
  }
 },
 "nbformat": 4,
 "nbformat_minor": 2
}

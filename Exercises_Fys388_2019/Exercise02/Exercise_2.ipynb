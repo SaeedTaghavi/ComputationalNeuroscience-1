{
 "cells": [
  {
   "cell_type": "markdown",
   "metadata": {},
   "source": [
    "# Exercise 2: Leaky integrate-and-fire (LIF) neuron\n",
    "\n",
    "The subthreshold membrane-potential dynamics of the LIF neuron is determined by\n",
    "\n",
    "\\begin{equation}\n",
    "\\tau_m  \\frac{dV}{dt} = -V + R \\, I(t)\n",
    "\\tag{1}\n",
    "\\end{equation}\n",
    "\n",
    "where $R$ is the neuron membrane resistance, and $\\tau_m = R C$ is the membrane time constant (see 8.2 in Sterratt). The resting potential is here chose to define the zero of the electrical potential. Spikes are emitted whenever the voltage reaches a threshold $\\theta$, i.e., if $V(t^*) = \\theta$. After each spike emission (spike time denoted $t^*$), the potential $V$ is reset to zero.\n",
    "\n",
    "## Pen-and-paper problems:\n",
    "_Do not use a computer to solve 1) and 2)_\n",
    "\n",
    "__(i)__ For a constant input current $I(t) = I = constant$, and an initial potential $V(t = 0) = 0$, the solution of eq. 1 is given by\n",
    "\n",
    "\\begin{equation}\n",
    "V (t) = R \\, I \\, (1 - e^{-t/\\tau_m}),\n",
    "\\tag{2}\n",
    "\\end{equation}\n",
    "\n",
    "provided $V(t) < \\theta$. Find an analytical formula for,  and sketch (by hand), the firing rate $f$ of the neuron as a function of the input current $I$ (what is typically known as the '$f-I$ curve'). Hint: The firing rate $f$ is by the number of spikes per time unit, and in the present noise-free case with a fixed current input, it is given by the inverse  of the inter-spike interval $T$, that is, $1/T$\n",
    "\n",
    "__(ii)__  Guess how the shape of the $f-I$ curve would qualitatively change in the presence of (a small amount of) additive noise, i.e., when $I(t) = I$  in equation 1 is replaced by $I(t) = I + \\mbox{\\emph{noise}}(t)$.\n",
    "\n",
    "\n",
    "## Python exercises:\n",
    "__(iii)__  We shall now implement and investigate the LIF model by means of simulations. One possible discretized version of the differential equation 1 reads:\n",
    "\n",
    "\\begin{equation}\n",
    "\\tau_m  \\frac{V(t_{n+1})-V(t_n)}{t_{n+1}-t_{n}} = -V(t_n) + R \\, I(t_n)\n",
    "\\tag{3}\n",
    "\\end{equation}\n",
    "\n",
    "This suggests the following simple numerical scheme, the so called _forward Euler method_, for a numerical solution:\n",
    "\n",
    "\\begin{equation}\n",
    "V_{n+1} = V_n + \\frac h{\\tau_m} (-V_{n} + R_m I_{n}).\n",
    "\\tag{4}\n",
    "\\end{equation}\n",
    "\n",
    "Here $V_{n+1} \\equiv V(t_{n+1})$, $V_{n} \\equiv V(t_{n})$,  $I_{n} \\equiv I(t_{n})$, and $h \\equiv t_{n+1}-t_{n}$.\n",
    "\n",
    "* __(a)__ Make a Python script that implements the LIF dynamics in discrete time $t = 0,\\ h,\\ 2h,\\ \\dots,\\ T$ using the numerical forward Euler scheme.\n",
    "* __(b)__ Simulate a LIF neuron with time constant $\\tau_m = 10$ ms, membrane resistance $R = 0.04$ G$\\Omega$, and\n",
    "threshold voltage $\\theta = 15$ mV for a constant input current $I = 400$ pA (both the resting and the reset potential are to zero). Set the initial voltage $V(t = 0)$ to zero. Record and plot the voltage $V(t)$ and the spike times (threshold crossings) for a time resolution  of $h = 0.1$ ms and total simulation time $T_\\text{simtime} = 1000$ ms\n",
    "\n",
    "__(iv)__ Measure and plot the neuron's $f-I$ curve by repeating the simulation for a range of constant input currents $I$ (for example, $I = 0,\\ 10,\\ 20,\\ \\dots,\\ 1000$ pA) and measuring the corresponding firing rates.\n",
    "\n",
    "\\begin{equation}\n",
    "f = \\frac{\\mbox{total number of emitted spikes}}{\\mbox{simulation time}}\n",
    "\\tag{5}\n",
    "\\end{equation}\n",
    "\n",
    "__(v)__ Add a small amount of noise (cf., problem (ii) above) to the input current and investigate how the $f-I$ curves change. Was your inital guess in problem (ii) in correct?"
   ]
  },
  {
   "cell_type": "code",
   "execution_count": null,
   "metadata": {
    "collapsed": true
   },
   "outputs": [],
   "source": []
  }
 ],
 "metadata": {
  "kernelspec": {
   "display_name": "Python 3",
   "language": "python",
   "name": "python3"
  },
  "language_info": {
   "codemirror_mode": {
    "name": "ipython",
    "version": 3
   },
   "file_extension": ".py",
   "mimetype": "text/x-python",
   "name": "python",
   "nbconvert_exporter": "python",
   "pygments_lexer": "ipython3",
   "version": "3.7.3"
  }
 },
 "nbformat": 4,
 "nbformat_minor": 2
}

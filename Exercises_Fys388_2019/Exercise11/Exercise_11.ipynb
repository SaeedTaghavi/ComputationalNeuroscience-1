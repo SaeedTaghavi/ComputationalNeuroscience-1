{
 "cells": [
  {
   "cell_type": "markdown",
   "metadata": {
    "collapsed": false
   },
   "source": [
    "## Exercise 11: Forward modelling of extracellular potentials using LFPy\n",
    "\n",
    "In this exercise you will work with forward modelling of extracellular potentials, based on the Hay model (Hay et al. (2011) PLoS Comput Biol 7: e1002107, doi:10.1371/journal.pcbi.1002107). \n",
    "\n",
    "You will be given example code below, based on _LFPy_ and _NEURON_, which you can adapt to solve this exercise.\n"
   ]
  },
  {
   "cell_type": "code",
   "execution_count": null,
   "metadata": {
    "collapsed": false
   },
   "outputs": [],
   "source": [
    "import os\n",
    "retval = os.getcwd()\n",
    "print(\"Current working directory %s\" % retval)\n",
    "os.chdir(\"hay_model/mod/\")\n",
    "!nrnivmodl\n",
    "os.chdir(retval)\n",
    "\n",
    "%matplotlib inline\n",
    "from os.path import join\n",
    "import numpy as np\n",
    "import pylab as plt\n",
    "import neuron\n",
    "import LFPy\n",
    "from hay_model.hay_active_declarations import active_declarations\n",
    "nrn = neuron.h"
   ]
  },
  {
   "cell_type": "markdown",
   "metadata": {},
   "source": [
    "Below follows some functions that you can use to solve this exercise. If you would like to understand this code in detail, we recommend reading about the LFPy software: https://lfpy.readthedocs.io \n",
    "\n",
    "Summary: A somatic synapse induces a spike in the Hay model that is recorded by\n",
    "a virtual electrode close to the soma. White noise with a Root-Mean-Square\n",
    "amplitude of 15 μV has been added to the extracellular signal, to emulate noise in experiental recordings."
   ]
  },
  {
   "cell_type": "code",
   "execution_count": null,
   "metadata": {
    "collapsed": true
   },
   "outputs": [],
   "source": [
    "def return_cell(conductance_type='active'):\n",
    "    \"\"\"\n",
    "    Returns an LFPy.Cell object that contains the Hay model.\n",
    "    \n",
    "    Parameters:\n",
    "    ===========\n",
    "    conductance_type: Either 'active' or 'passive'. If 'active' all original ion-channels are included,\n",
    "           if 'passive' they are all removed, yielding a passive cell model.\n",
    "    \"\"\"\n",
    "\n",
    "    model_path = join('hay_model')\n",
    "    neuron.load_mechanisms(join(model_path, 'mod'))\n",
    "    cell_parameters = {\n",
    "        'morphology': join(model_path, 'cell1.hoc'),\n",
    "        'v_init': -65,               # initial voltage (mV)\n",
    "        'passive': False,            # disable passive membrance mechanism\n",
    "        'nsegs_method': 'lambda_f',  # compartmentalization method\n",
    "        'lambda_f': 100,             # lambda_f_100 compartmentalization (Hines&Carnevale 2001)\n",
    "        'dt': 2**-4,                 # time resolution (ms)\n",
    "        'tstart': -100,              # simulation start time (ms)\n",
    "        'tstop': 100,                # simulation end time (ms)\n",
    "        'custom_code': [join(model_path, 'custom_codes.hoc')],\n",
    "        'custom_fun': [active_declarations],\n",
    "        'custom_fun_args': [{'conductance_type': conductance_type}],\n",
    "    }\n",
    "    cell = LFPy.Cell(**cell_parameters)\n",
    "    return cell\n",
    "\n",
    "\n",
    "def insert_synapse(cell, synaptic_y_pos=0, weight=0.01, input_spike_train=np.array([20.])):\n",
    "    \"\"\"\n",
    "    Inserts a synapse on the given cell model\n",
    "    \n",
    "    Parameters:\n",
    "    ===========\n",
    "    cell : LFPy.Cell object that contains the cell model\n",
    "    synaptic_y_pos: position along the apical dendrite where the synapse is inserted.\n",
    "    weight: Strength of the synaptic input\n",
    "    input_spike_train: Numpy array containing synaptic spike times\n",
    "    \"\"\"\n",
    "    synapse_parameters = {\n",
    "        'idx': cell.get_closest_idx(x=0., y=synaptic_y_pos, z=0.),\n",
    "        'e': 0.,                # synapse reversal potential (mV)\n",
    "        'syntype': 'ExpSyn',    # synapse time\n",
    "        'tau': 10.,             # synapse time constant (ms)\n",
    "        'weight': weight,       # synapse max conductance (uS)\n",
    "        'record_current': True, # record synapse current\n",
    "    }\n",
    "    synapse = LFPy.Synapse(cell, **synapse_parameters)\n",
    "    synapse.set_spike_times(input_spike_train)\n",
    "    return synapse\n",
    "\n",
    "\n",
    "def make_extracellular_electrode(cell, elec_x=np.array([25.]), elec_y=np.array([0.]), \n",
    "                                 elec_z=np.array([0.])):\n",
    "    \"\"\"\n",
    "    Make an extracellular electrode, and calculate the extracellular potential from the given cell\n",
    "    \n",
    "    Parameters:\n",
    "    ===========\n",
    "    cell : LFPy.Cell object that contains the cell model. This function assumes that the cell simulation is finished\n",
    "    elec_x, elec_y, elec_z : numpy array with x,y,z position of electrode(s).\n",
    "    \"\"\"\n",
    "\n",
    "    electrode_parameters = {\n",
    "        'sigma': 0.3,  # extracellular conductivity in S/m\n",
    "        'x': elec_x,  # x,y,z-coordinates of contact points (um)\n",
    "        'y': elec_y,\n",
    "        'z': elec_z,\n",
    "    }\n",
    "    electrode = LFPy.RecExtElectrode(cell, **electrode_parameters)\n",
    "    electrode.calc_lfp()\n",
    "    return electrode\n",
    "\n",
    "\n",
    "def plot_electrode_signal(cell, electrode, xlim=[15, 55]):\n",
    "    \"\"\"\n",
    "    Plots the somatic membrane potential and somatic transmembrane currents (left), \n",
    "    as well as the cell morphology (center), and the extracellular potential (right).\n",
    "    \n",
    "    Parameters:\n",
    "    ===========\n",
    "    cell : LFPy.Cell object that contains the cell model. This function assumes that the cell simulation is finished\n",
    "    electrode: Electrode object from the LFPy class RecExtElectrode \n",
    "    \"\"\"\n",
    "    cell_plot_idx = 0\n",
    "    fig = plt.figure(figsize=[12, 9])\n",
    "    fig.subplots_adjust(hspace=0.5)  # Adjusts the vertical distance between panels.\n",
    "    ax_cell = fig.add_subplot(132, aspect='equal')\n",
    "    ax_cell.axis('off')\n",
    "    \n",
    "    elec_color = lambda elec_idx: plt.cm.jet(elec_idx / len(electrode.x))\n",
    "    \n",
    "    [ax_cell.plot([cell.xstart[idx], cell.xend[idx]], \n",
    "              [cell.ystart[idx], cell.yend[idx]], c='k') for idx in range(cell.totnsegs)]\n",
    "    for idx in range(len(electrode.x)):\n",
    "        el, = ax_cell.plot(electrode.x[idx], electrode.y[idx], 'D', c=elec_color(idx), ms=14)\n",
    "    syn, = ax_cell.plot(cell.xmid[cell.synidx], cell.ymid[cell.synidx], '*', c='g', ms=14)\n",
    "    \n",
    "    ax_cell.legend([el, syn], [\"Electrode\", \"Synapse\"], frameon=False, loc=\"lower center\")\n",
    "    \n",
    "    ax_v = fig.add_subplot(231, title='Somatic\\nmembrane potential', xlim=xlim,\n",
    "                           xlabel='Time [ms]', ylabel='mV')\n",
    "    ax_v.plot(cell.tvec, cell.vmem[cell_plot_idx, :], color='k', lw=2)\n",
    "    \n",
    "    ax_i = fig.add_subplot(234, title='Somatic\\ntransmembrane currents',  xlim=xlim,\n",
    "                           xlabel='Time [ms]', ylabel='nA')\n",
    "    ax_i.plot(cell.tvec, cell.imem[cell_plot_idx, :], color='k', lw=2)\n",
    "\n",
    "    np.random.seed(1234)\n",
    "    #  Make signal with units uV (instead of mV) and add normally distributed white noise with RMS of 15\n",
    "    signal_with_noise = 1000 * electrode.LFP + np.random.normal(0, 15, size=electrode.LFP.shape)\n",
    "    ylim = np.max(np.abs(signal_with_noise)) * 1.2\n",
    "    ax_ec = fig.add_subplot(133, title='Extracellular potential', xlim=xlim,\n",
    "                            xlabel='Time [ms]', ylabel='$\\mu V$', ylim=[-ylim, ylim])\n",
    "    [ax_ec.plot(cell.tvec, signal_with_noise[idx, :], c=elec_color(idx), lw=2) for idx in range(len(electrode.x))]\n",
    "    \n",
    "    from plotting_convention import simplify_axes\n",
    "    simplify_axes([ax_v, ax_i, ax_ec])\n",
    "\n"
   ]
  },
  {
   "cell_type": "markdown",
   "metadata": {},
   "source": [
    "## Task 1\n",
    "Given a noise level on the virtual extracellular electrode corresponding to\n",
    "white noise with a Root-Mean-Square of 15 μV, roughly how far away from soma\n",
    "will a spike from the Hay model be visible on an electrode?\n",
    "\n",
    "_Note_: The soma of the cell is in origo, and you can change the distance to the electrode by for example changing the _x_ position of the electrode (elec_x)"
   ]
  },
  {
   "cell_type": "code",
   "execution_count": null,
   "metadata": {
    "collapsed": false
   },
   "outputs": [],
   "source": [
    "cell = return_cell(conductance_type=\"active\")\n",
    "insert_synapse(cell, synaptic_y_pos=0, weight=0.01)\n",
    "cell.simulate(rec_imem=True, rec_vmem=True)\n",
    "elec_x = np.array([15.,])\n",
    "elec_y = np.array([0.0,])\n",
    "elec_z = np.array([0.0,])\n",
    "electrode = make_extracellular_electrode(cell, elec_x, elec_y, elec_z)\n",
    "plot_electrode_signal(cell, electrode, xlim=[19, 45])"
   ]
  },
  {
   "cell_type": "markdown",
   "metadata": {
    "collapsed": true
   },
   "source": [
    "## Taks 2:\n",
    "We will now look at the origin of the Local Field Potential (LFP), which\n",
    "is typically assumed to be caused by synaptic input to large populations of cells.\n",
    "\n",
    "Decrease the synaptic weight so that the cell does not fire an action potential, and\n",
    "plot the extracellular amplitude on a dense 2D grid around the cell at the time\n",
    "corresponding to the maximum deflection in the membrane potential at the position of the synapse. A\n",
    "plotting function for this is already implemented below. \n",
    "\n",
    "* What shape does the LFP around the cell have for a somatic synapse (y=0)? \n",
    "\n",
    "* What shape does the LFP around the cell have for a synapse arriving at the center of the apical dendrite\n",
    "of the cell (y = 600 μm)? How about at the distal apical dendrite (y = 1200 μm)?\n",
    "\n",
    "* Can you, based only on the shape of the LFP, predict which of the three that will\n",
    "fall of most rapid with distance from the cell? _Hint: Distance decay of a dipole versus higher order multipoles._"
   ]
  },
  {
   "cell_type": "code",
   "execution_count": null,
   "metadata": {
    "collapsed": true
   },
   "outputs": [],
   "source": [
    "def dense_2D_LFP(cell):\n",
    "\n",
    "    #  Make dense 2D grid of electrodes\n",
    "    x = np.linspace(-1000, 1000, 26)\n",
    "    y = np.linspace(-500, 1500, 26)\n",
    "    x, y = np.meshgrid(x, y)\n",
    "    elec_x = x.flatten()\n",
    "    elec_y = y.flatten()\n",
    "    elec_z = np.zeros(len(elec_x))\n",
    "\n",
    "    electrode_parameters = {\n",
    "    'sigma': 0.3,  # extracellular conductivity in S/m\n",
    "    'x': elec_x,  # x,y,z-coordinates of contact points\n",
    "    'y': elec_y,\n",
    "    'z': elec_z,\n",
    "    }\n",
    "    electrode = LFPy.RecExtElectrode(cell, **electrode_parameters)\n",
    "    electrode.calc_lfp()\n",
    "\n",
    "    fig = plt.figure(figsize=[12, 12])\n",
    "    ax = fig.add_subplot(111, aspect=1, frameon=False, xlabel=\"x ($\\mu$m)\", ylabel=\"y ($\\mu$m)\")\n",
    "    [ax.plot([cell.xstart[idx], cell.xend[idx]], \n",
    "        [cell.ystart[idx], cell.yend[idx]], c='k') for idx in range(cell.totnsegs)]\n",
    "    \n",
    "    syn, = ax.plot(cell.xmid[cell.synidx], cell.ymid[cell.synidx], '*', c='g', ms=14)\n",
    "    \n",
    "    ax.legend([syn], [\"Synapse\"], frameon=False, loc=\"lower right\")\n",
    "    time_idx = np.argmax(cell.vmem[cell.synidx, :])\n",
    "    sig_amp = 1000 * electrode.LFP[:, time_idx].reshape(x.shape)\n",
    "    color_lim = np.max(np.abs(sig_amp))/5\n",
    "    img = ax.imshow(sig_amp, origin='lower', extent=[np.min(x), np.max(x), np.min(y), np.max(y)],\n",
    "               vmin=-color_lim, vmax=color_lim, interpolation='nearest', cmap=plt.cm.bwr)\n",
    "    plt.colorbar(img, ax=ax, label=\"$\\mu$V\")\n"
   ]
  },
  {
   "cell_type": "code",
   "execution_count": null,
   "metadata": {
    "collapsed": false
   },
   "outputs": [],
   "source": [
    "cell = return_cell(conductance_type=\"active\")\n",
    "insert_synapse(cell, synaptic_y_pos=0, weight=0.001)\n",
    "cell.simulate(rec_imem=True, rec_vmem=True)\n",
    "dense_2D_LFP(cell)"
   ]
  },
  {
   "cell_type": "markdown",
   "metadata": {},
   "source": [
    "## Task 3\n",
    "Compare the LFP from this pyramidal cell model, with the LFP from an interneuron cell model\n",
    "(code below). Are there differences that might be important? \n",
    "\n",
    "_Hint: The LFP is expected to result from many synaptic inputs to many different cells, and the LFP is not expected to sum in the same way for these two different cell types_.\n",
    "\n",
    "Based on the results from Task 2 and Task 3 in this exercise, it is possible to make quite strong claims about which neuronal processes that will dominate the LFP. For more information on this, see:\n",
    "Lindén et al. (2010) Intrinsic dendritic filtering gives low-pass power spectra of local field potentials. J Comput Neurosci 29: 423–444. http://www.ncbi.nlm.nih.gov/pubmed/20502952"
   ]
  },
  {
   "cell_type": "code",
   "execution_count": null,
   "metadata": {
    "collapsed": true
   },
   "outputs": [],
   "source": [
    "def return_IN_cell():\n",
    "    \"\"\"\n",
    "    Returns an LFPy.Cell object that contains a passive interneuron model.\n",
    "    \"\"\"\n",
    "\n",
    "    cell_parameters = {\n",
    "        'morphology': join('IN.hoc'),\n",
    "        'v_init': -65,\n",
    "        'passive': True,\n",
    "        'nsegs_method': 'lambda_f',\n",
    "        'lambda_f': 100,\n",
    "        'dt': 2**-4,  # Should be a power of 2\n",
    "        'tstart': -100,\n",
    "        'tstop': 100,\n",
    "    }\n",
    "    cell = LFPy.Cell(**cell_parameters)\n",
    "    return cell\n"
   ]
  },
  {
   "cell_type": "code",
   "execution_count": null,
   "metadata": {
    "collapsed": false
   },
   "outputs": [],
   "source": [
    "cell = return_IN_cell()\n",
    "insert_synapse(cell, synaptic_y_pos=250, weight=0.001)\n",
    "cell.simulate(rec_imem=True, rec_vmem=True)\n",
    "dense_2D_LFP(cell)"
   ]
  },
  {
   "cell_type": "code",
   "execution_count": null,
   "metadata": {
    "collapsed": true
   },
   "outputs": [],
   "source": []
  }
 ],
 "metadata": {
  "kernelspec": {
   "display_name": "Python 3",
   "language": "python",
   "name": "python3"
  },
  "language_info": {
   "codemirror_mode": {
    "name": "ipython",
    "version": 3
   },
   "file_extension": ".py",
   "mimetype": "text/x-python",
   "name": "python",
   "nbconvert_exporter": "python",
   "pygments_lexer": "ipython3",
   "version": "3.6.0"
  }
 },
 "nbformat": 4,
 "nbformat_minor": 2
}

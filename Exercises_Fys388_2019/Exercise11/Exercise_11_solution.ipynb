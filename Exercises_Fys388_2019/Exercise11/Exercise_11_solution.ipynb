{
 "cells": [
  {
   "cell_type": "markdown",
   "metadata": {},
   "source": [
    "# Solution to Exercise 9: Forward modelling of extracellular potentials using LFPy\n",
    "\n",
    "No solution-code provided, but figures shown here should be easy to reproduce using the code given in the assignment.\n",
    "\n",
    "__(i)__ This is actually a complicated question, where you in general have to find a balance between False Nagative errors (not registering a spike that is there) and False Positive errors (registering a spike that is not there), see Figure 1.In the current setup, we seem to reliably pick up the signal 30 $\\mu$m away from the soma, while it has almost drowned in noise when it 40 $\\mu$m away.\n",
    "\n",
    "<img src=\"Solutionpic1.png\" width = \"600\">\n",
    "__Figure 1__For white noise with a Root-Mean-Square amplitude of 15 $\\mu V$ added to the extracellular signal,\n",
    "the spike is visible in the extracellular medium 30 $\\mu m$ (__A__) to 40 $\\mu m$ (__right__) away from the soma.\n",
    "\n",
    "__(ii)__ In Figure 2 we can see that the somatic and distal apical dendrite synapse gives a dipole-like LFP. Any higher order multipole will generally decay more rapid with distance than a dipole, implying that somatic and \n",
    "distal apical synapses can be expected to have larger contributions to the LFP than the input to the center of the apical dendrite.\n",
    "\n",
    "<img src=\"grid.png\" width = \"500\">\n",
    "__Figure 2__The amplitude of the LFP at a time shortly after the synaptic input has arrived either to the soma (left), to the middle of the apical dendrite (center), or to the distal apical tuft (right). The color scale is the same in \n",
    "all figures.\n",
    "\n",
    "\n",
    "__iii__ The interneuron does not have a clear \"axis\" such as the pyramidal cell, i.e., it is more symmetrical and branches out from the soma in all directions. Cells that are more symmetrical, will generally not get as clean dipole LFP, and this will lead to a more rapid decay of signal power with distance, decreasing their importance for the LFP. In addition, the interneuron is less spatially extended, so the dipole and multipole moments will also be smaller for that reason. (See paper by Linden et al. (2010): Intrinsic dendritic filtering gives low-pass power spectra of local field potentials. J Comput Neurosci 29: 423-444. http://www.ncbi.nlm.nih.gov/pubmed/20502952).\n",
    "\n",
    "<img src=\"Interneuron.png\" width = \"300\">\n",
    "__Figure 3:__ The amplitude of the LFP at a time shortly after the synaptic input has arrived in the interneuron.\n"
   ]
  },
  {
   "cell_type": "code",
   "execution_count": null,
   "metadata": {
    "collapsed": true
   },
   "outputs": [],
   "source": []
  }
 ],
 "metadata": {
  "kernelspec": {
   "display_name": "Python 3",
   "language": "python",
   "name": "python3"
  },
  "language_info": {
   "codemirror_mode": {
    "name": "ipython",
    "version": 3
   },
   "file_extension": ".py",
   "mimetype": "text/x-python",
   "name": "python",
   "nbconvert_exporter": "python",
   "pygments_lexer": "ipython3",
   "version": "3.6.0"
  }
 },
 "nbformat": 4,
 "nbformat_minor": 2
}

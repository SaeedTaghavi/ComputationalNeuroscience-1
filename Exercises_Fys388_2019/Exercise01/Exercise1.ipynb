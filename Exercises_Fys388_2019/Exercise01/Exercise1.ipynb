{
 "cells": [
  {
   "cell_type": "markdown",
   "metadata": {},
   "source": [
    "# Exercise 1: Biophysical properties of cell membranes\n",
    "\n",
    "## Problem 1: Electroneutrality in neurons\n",
    "Neurons are filled with ions, both _cations_ (positively charged ions) and _anions_ (negatively charged ions). The magnitude of the total charge of cations is about the same as the magnitude of the total charge of anions. But in order to have a non-zero electrical potential across the cell membrane, there must be a slight difference. Note that the _uncompensated_ charges are all found 'attached' to inside of the neuron membrane, while the bulk solution in the cell is _electroneutral_, i.e., has no net charge.\n",
    "\n",
    "\n",
    "Here we will look into how big this charge unbalance is. Let's consider a spherical cell with a radius of 25\\mu m with a _membrane potential_ of -100 mV, i.e., the potential at the inside of the cell is 100 mV lower than at the outside. The cell membrane is a _capacitor_ which means that a voltage difference $V$ across it, must be accompanied by equal positive (+_Q_) and negative (-_Q_) charges on each side of the membrane according to the relationship:\n",
    "\n",
    "\\begin{equation}\n",
    " Q = C V\\;. \n",
    "\\end{equation}\n",
    "\n",
    "Here _C_ is the _capacitance_ of the membrane.\n",
    "\n",
    "__(i)__ The _specific membrane capacitance_ of a typical cell is $C_m = 1\\, \\mu$F/cm$^2$, that is, a charge of 10$^{-6}$ C is needed on each side of a 1 cm$^2$ membrane to produce a voltage difference of 1 V. What is the number of monovalent ions (like Na$^+$, K$^+$, Cl$^-$) needed to charge up our example cell to have a membrane potential to 100 mV?\\\\\n",
    "\n",
    "__(ii)__ Let's assume that the interior of the cell consists of a 100 mM solution of KCl, so that the concentration of K$^+$ and Cl$^-$ is about 100 mM. However, to have a membrane potential of -100 mV, there must be slightly more Cl$^-$ than  K$^+$ ions, that is, some of the Cl$^-$ ions are \\emph{uncompensated} by K$^+$ ions to give a net negative charge. What is the fraction of Cl$^-$ ions that is uncompensated?\n",
    "\n",
    "__(iii)__ In most neural simulations, it is assumed that the ion currents governing the membrane potentials is so small that they do not affect overall ion concentrations (at least for Na$^+$, K$^+$ and Cl$^-$). Does this appear to be a good approximation for the K$^+$ and Cl$^-$ ions in the present case (as far as the interior of the neuron is concerned)?\n",
    "\n",
    "\n",
    "## Problem 2: Calcium ions in dendritic spines\n",
    "While the intracellular concentrations of K$^+$, Na$^+$, Cl$^-$ are measured in 10s or 100s of millimolars (mM), the intracellular concentration of Ca$^{2+}$ is typically around 100 nanomolars (nM) or smaller. Since the Ca$^{2+}$ concentration inside neurons is so low, a modest influx of Ca$^{2+}$ can lead to quite dramatic concentration changes. Calcium ions (Ca$^{2+}$) are therefore used as an important signal molecules in neurons, and especially in small neuronal substruktures such as spines.\n",
    "\n",
    "Dendritic _spines_ are small protrusions of the dendrite, see Figure 1. They come in different shapes, and many of them look like a mushoom  with a 'head' (often housing a single synapse from another neuron) attached to a spine neck, see right panel.\n",
    "\n",
    "<img src=\"Dendritic_spines.png\" width = \"600\">\n",
    "\n",
    "__(i)__ Let's consider a cylindrical head of a mushroom spine with a diameter of 0.4 $\\mu$m and a height of 0.2 $\\mu$m. Let's also assume the spine neck to be so tight that the head for the present purposes can be considered electrically isolated from the mother dendrite. How many Ca$^{2+}$ would be required to enter the spine head from from the outside in order to increase the membrane potential with 10 mV? (You can assume the same value for the membrane capacitance as in Problem 1.)\n",
    "\n",
    "__(ii)__ The resting concentration of Ca$^{2+}$ in the spine head has been estimated to be around 70 nM. How many\n",
    "Ca$^{2+}$ ions in the spine head does this correspond to?\n",
    "\n",
    "\n",
    "__(iii)__ Do you think one in general can assume the concentration of Ca$^{2+}$ to be independent of current going through Ca$^{2+}$ ion channels?\n",
    "\n"
   ]
  },
  {
   "cell_type": "code",
   "execution_count": null,
   "metadata": {
    "collapsed": true
   },
   "outputs": [],
   "source": []
  },
  {
   "cell_type": "code",
   "execution_count": null,
   "metadata": {
    "collapsed": true
   },
   "outputs": [],
   "source": []
  }
 ],
 "metadata": {
  "kernelspec": {
   "display_name": "Python 3",
   "language": "python",
   "name": "python3"
  },
  "language_info": {
   "codemirror_mode": {
    "name": "ipython",
    "version": 3
   },
   "file_extension": ".py",
   "mimetype": "text/x-python",
   "name": "python",
   "nbconvert_exporter": "python",
   "pygments_lexer": "ipython3",
   "version": "3.6.0"
  }
 },
 "nbformat": 4,
 "nbformat_minor": 2
}

{
 "cells": [
  {
   "cell_type": "markdown",
   "metadata": {},
   "source": [
    "# Solution: Exercise 1:  Biophysical properties of cell membranes\n",
    "\n",
    "## Problem 1: Electroneutrality in neurons\n",
    "__(i)__ From the relationship $Q=CV$ we find for the required number $N$ of monovalent ions:\n",
    "\n",
    "\\begin{equation}\n",
    "N = \\frac{Q}{e}= \\frac{CV}{e}=\\frac{C_m A_\\text{cell} V}{e}.\n",
    "\\end{equation}\n",
    "\n",
    "Here $A_\\text{cell}= 4 \\pi r_\\text{cell}^2$ is the surface area of the cell and $e= 1.6 \\cdot 10^{-19}$ C is the elementary charge. With numbers inserted we get:\n",
    "\n",
    "\\begin{align}\n",
    "N &= \\frac{1 \\mu\\text{F} \\cdot \\text{cm}^{-2} \\cdot 4 \\pi (25 \\mu \\text{m})^2 \\cdot 100\\;\\text{mV} }{ 1.6 \\cdot 10^{-19}\\;\\text{C} }  \\nonumber \\\\\n",
    "&= \\frac{1 \\cdot 10^{-6} \\cdot 10^{4} \\cdot 4 \\pi (25)^2 \\cdot (10^{-6})^2 \\cdot 100 \\cdot 10^{-3}  }{ 1.6 \\cdot 10^{-19} } \\; \\frac{FV}{C}= 4.9 \\cdot 10^7\n",
    "\\end{align}\n",
    "\n",
    "In the last step we have used that the ratio $1 \\text{F} \\cdot 1 \\text{V}/ 1 \\text{C}$ is 1. If you are surprised by this, remember (i)  that F is the SI unit for capacitance (farad), V is the SI unit for voltage (volt), and C is the SI unit for charge (coulomb), and (ii) that the fundamental relationship relating these quantities is charge equals capacitance multiplied by voltage. \n",
    "\n",
    "\n",
    "__(ii)__ $N$ is the number of required 'uncompensated' Cl$^-$ ions to get a membrane potential of 100 mV. This must be compared with the total number of Cl$^-$ ions inside the neuron. This total number is given by the concentration $c$ of Cl$^-$ (100 mM) multiplied by the volume $v_\\text{cell}$ of the cell (here: $v_\\text{cell}=4 \\pi r_\\text{cell}^3/3$):\n",
    "\n",
    "\n",
    "\\begin{align}\n",
    "f_\\text{uncomp} &= \\frac{N}{c \\,v_\\text{cell}}= \\frac{3N}{4 \\pi c \\, r_\\text{cell}^3} = \\frac{3 N }{4 \\pi \\cdot 100 \\cdot 10^{-3} \\cdot N_A  \\cdot 10^{-3} \\cdot r_\\text{cell}^3 } \\nonumber \\\\ \n",
    "&= \\frac{3 \\cdot  4.9 \\cdot 10^7 }{4 \\pi \\cdot 100 \\cdot 10^{-3} \\cdot 6.0 \\cdot 10^{23}  \\cdot 10^{3} \\cdot (2.5 \\cdot 10^{-5})^3 } = 1.1 \\cdot 10^{-5}\n",
    "\\end{align}\n",
    "\n",
    "The fraction of uncompensated Cl$^-$ ions is thus very small, about 0.001 %.\n",
    "\n",
    "__(iii)__ As the fraction of uncompensated ions is only about 10$^{-5}$ even at a membrane potential of 100 mV (which in magnitude is about as big as it gets), we can safely conclude that the membrane currents have a negligible effect on the ion concentrations in the _cytoplasm_, i.e., inside the cell.\n",
    "\n",
    "\n",
    "# Problem 2: Calcium ions in dendritic spines\n",
    "\n",
    "__(i)__ We find for the required number $N_\\text{Ca}$ of calcium ions:\n",
    "\n",
    "\\begin{equation}\n",
    "N_\\text{Ca} = \\frac{Q}{2e}=\\frac{C_m A_\\text{sp} V}{2e}\n",
    "\\end{equation}\n",
    "\n",
    "where $A_\\text{sp}= \\pi d_\\text{sp} h_\\text{sp}+2 \\pi d_\\text{sp}^2/4 = \\pi d_\\text{sp} (h_\\text{sp} + d_\\text{sp}/2)$ \n",
    "correspond to the sum of the side surface and top and bottom surfaces of the spine-head cylinder.\n",
    "\n",
    "With numbers inserted we get \n",
    "\n",
    "\\begin{align}\n",
    "N_\\text{Ca} &= \\frac{1 \\mu\\text{F} \\cdot \\text{cm}^{-2} \\cdot \\pi \\cdot  0.4\\;\\mu\\text{m} \\;(0.2\\;\\mu\\text{m}+ 0.4/2\\;\\mu\\text{m}) \\cdot 10\\;\\text{mV} }{ 2 \\cdot 1.6 \\cdot 10^{-19}\\;\\text{C} }  \\nonumber \\\\\n",
    "&= \\frac{1 \\cdot 10^{-6} \\cdot 10^{4} \\cdot \\pi \\cdot 0.4 \\cdot 0.4 \\cdot (10^{-6})^2 \\cdot 10 \\cdot 10^{-3}  }{2 \\cdot 1.6 \\cdot 10^{-19} } = 157\n",
    "\\end{align}\n",
    "\n",
    "Thus 157  Ca$^{2+}$ ions are needed to increase spine membrane potential with 10 mV.\n",
    "\n",
    "__(ii)__ The (average) number of Ca$^{2+}$ ions inside the spine head when the concentration is 70~nM, is \n",
    "given by the concentration $c$ multiplied by the volume $v_\\text{sp}$ of the spine head (here: $v_\\text{sp}=\\pi h_\\text{sp} d_\\text{sp}^2/4$):\n",
    "\n",
    "\\begin{align}\n",
    "N_\\text{Ca,bkg} &= \\pi \\, c \\, h_\\text{sp} \\, d_\\text{sp}^2/4 \\nonumber \\\\\n",
    "&= \\pi \\cdot 70 \\cdot 10^{-9} \\cdot 6.0 \\cdot 10^{23}  \\cdot 10^{3} \\cdot 0.2 \\cdot 10^{-6}  \\cdot (0.4 \\cdot 10^{-6})^2/4  = 1.06 \\simeq 1\n",
    "\\end{align}\n",
    "\n",
    "Thus in the background state there is on average only a single Ca$^{2+}$ ion in the spine head.\n",
    "\n",
    "__(iii)__ Clearly, the influx of 157 Ca$^{2+}$ ions into the spine head will have a major effect on the concentration since there is only about 1 Ca$^{2+}$ ion there to begin with.\n",
    "\n",
    "For more info, see Box 2.3 in Sterratt et al.: \"Principles ...\"."
   ]
  },
  {
   "cell_type": "code",
   "execution_count": null,
   "metadata": {
    "collapsed": true
   },
   "outputs": [],
   "source": []
  }
 ],
 "metadata": {
  "kernelspec": {
   "display_name": "Python 3",
   "language": "python",
   "name": "python3"
  },
  "language_info": {
   "codemirror_mode": {
    "name": "ipython",
    "version": 3
   },
   "file_extension": ".py",
   "mimetype": "text/x-python",
   "name": "python",
   "nbconvert_exporter": "python",
   "pygments_lexer": "ipython3",
   "version": "3.6.0"
  }
 },
 "nbformat": 4,
 "nbformat_minor": 2
}
